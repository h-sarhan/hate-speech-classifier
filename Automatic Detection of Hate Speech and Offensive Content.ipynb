{
 "cells": [
  {
   "cell_type": "markdown",
   "id": "1698331d",
   "metadata": {},
   "source": [
    "# Automatic Detection of Hate Speech and Offensive Content"
   ]
  },
  {
   "cell_type": "code",
   "execution_count": 85,
   "id": "396c13c8-0060-46dc-84d4-cfa5bb67420c",
   "metadata": {},
   "outputs": [],
   "source": [
    "# convert html character entities to unicode (ex: &copy; -> ©)\n",
    "from html import unescape\n",
    "\n",
    "import matplotlib.pyplot as plt\n",
    "import neattext as nt  # needed for text cleaning\n",
    "import numpy as np  # array processing\n",
    "import pandas as pd  # data analysis\n",
    "import tensorflow as tf  # we'll be using keras near the end of the notebook\n",
    "from better_profanity import profanity  # censor offensive words\n",
    "from nltk.tokenize import TweetTokenizer  # tokenizer\n",
    "# create a bag of words representation of the text data\n",
    "from sklearn.feature_extraction.text import CountVectorizer, TfidfVectorizer\n",
    "# scoring metrics\n",
    "from sklearn.metrics import accuracy_score, f1_score, precision_score, recall_score\n",
    "from sklearn.model_selection import train_test_split # for splitting dataset into training and test sets\n",
    "\n",
    "# set the seed to get reproducible results\n",
    "SEED_NUM = 24\n",
    "np.random.seed(SEED_NUM)\n",
    "tf.random.set_seed(SEED_NUM)\n",
    "\n",
    "# increase pandas column widths\n",
    "pd.options.display.max_colwidth = 200\n",
    "\n",
    "# data paths\n",
    "DAVIDSON_DATA_PATH = './data/davidson/labeled_data.txt'\n",
    "HURTLEX_DATA_PATH = './data/hurtlex_EN.tsv'\n",
    "GLOVE_TWITTER_EMBEDDINGS_PATH = './models/embeddings/glove-twitter-200.txt'"
   ]
  },
  {
   "cell_type": "markdown",
   "id": "aee08a69-71f7-41c4-a4e6-b57d7eff9789",
   "metadata": {
    "tags": []
   },
   "source": [
    "## Introduction \n",
    "\n",
    "In this assignment I will go through the steps of building a classifier that can detect hateful and offensive content in English.\n",
    "\n",
    "One of the reasons I chose to work on this topic is because I feel there is not enough being done to curb the rampant online harassment that people have to deal with on social media. Hate speech, racial slurs, offensive content, threats of violence, and unwanted sexual comments are against the terms of service of all major social media websites, and yet in some communities they are as common as cat gifs. \n",
    "\n",
    "Some reasons why people get harassed or threatened online are because of their gender, race, religion, sexual orientation, or political views. Of course, none of these are good reasons as to why you should be hostile towards someone, but many people do not realize this. The majority of online harassment occurs on social media websites [$^{1}$](https://www.pewresearch.org/internet/2021/01/13/the-state-of-online-harassment/), so the responsibility falls on these large tech companies to look after their users' safety and well-being. Unfortunately, these companies are not doing enough.\n",
    "\n",
    "Let's look at how Facebook moderates its content. Most of Facebook's content moderation team does not work directly for Facebook as they are outsourced, and there are not that many of them. [$^{3}$](https://www.forbes.com/sites/johnkoetsier/2020/06/09/300000-facebook-content-moderation-mistakes-daily-report-says/?sh=2e15774d54d0) Facebook uses a hybrid system to moderate their content. Content is input into an A.I. model and will be flagged for review if the model detects any content violating the platform's terms of service. (Users can also flag content for review) This model does prevent a lot of harmful content from being seen, but it clearly could be implemented better based on the amount of users experiencing harassment on the platform. This model is also used to filter spam, fake news, and adult content, but of course this type of content is still very common on Facebook. [$^{4}$](https://www.forbes.com/sites/traversmark/2020/03/21/facebook-spreads-fake-news-faster-than-any-other-social-website-according-to-new-research/) Given the low number of human moderators working with Facebook, only 15,000 for over 2.9 billion monthly active users, [$^{3}$](https://www.forbes.com/sites/johnkoetsier/2020/06/09/300000-facebook-content-moderation-mistakes-daily-report-says/?sh=2e15774d54d0) [$^{2}$](https://www.statista.com/statistics/264810/number-of-monthly-active-facebook-users-worldwide/) there is a huge burden on Facebook's classifier to correctly flag objectionable content.\n",
    "\n",
    "I will be working with English language data in this notebook but the same techniques can be applied to data in other languages. While there is hate speech and misinformation present in English language communities on social media, the problem is amplified in parts of the world that have pre-existing racial or religious tensions between people. The textbook example of this is Facebook's wildly irresponsible expansion into Myanmar. Over there Facebook was used to spread hatred and incite violence against the Rohingya people, a Muslim minority group. Fake news and hate speech, targeted at the Rohingya people, spread like wildfire on Facebook's platform, often resulting in real-world violence against them.[$^{6}$](https://apnews.com/article/technology-business-middle-east-religion-europe-a38da3ccd40ffae7e4caa450c374f796) Facebook has failed on every step of the way to moderate the content being posted in Myanmar and the results were unfortunately tragic and completely avoidable.\n",
    "\n",
    "**Note**: Due to the nature of this topic and the dataset used, this notebook will contain examples of language that could be considered to be offensive or vulgar by the reader. I have tried to minimize the amount of objectionable content by limiting the amount of times I preview the data and by using a python module that censors profanity."
   ]
  },
  {
   "cell_type": "markdown",
   "id": "e10bb0de-d990-4fd7-b103-0c9b8b36069d",
   "metadata": {},
   "source": [
    "## Objectives\n",
    "\n",
    "In this assignment I will show how AI and natural language processing can be used for social good by building multiple versions of a hateful content classifier, with each version being more sophisticated than the next. \n",
    "\n",
    "My goals with this assignment is to tackle an interesting, yet somewhat niche problem and to hopefully create a product that can be put to good use. When I say that this is a niche problem I do not mean that online harassment is a rare phenomenon, I am just commenting on the fact that while researching this topic I did not find a lot of community or commercial interest in AI-related solutions to this problem. I did however, find multiple academic papers and datasets that try to tackle this issue. In particular, I find that the work being done by the Hate-Alert group in IIT Kharagpur [$^{5}$](https://hate-alert.github.io/) to be very promising. \n",
    "\n",
    "I suspect that corporations are not interested because there is not much financial incentive for them to develop a solution to this problem, and any solution would probably bring up issues of privacy and surveillance that these companies would like to avoid. The lack of a community-driven or open-source solution to this issue is disappointing. The technology obviously exists since Twitter, Facebook, and YouTube all have classifiers that can detect offensive content, and in this same notebook I will show you how you can build one of these yourself (it's not very hard).\n",
    "\n",
    "I can think of several use cases for a classifier like this:\n",
    "\n",
    "1. It can be used to help people moderate communities.\n",
    "\n",
    "2. It can be used to enforce the terms of service of a social media website or any website that has a large amount of user-generated content.\n",
    "\n",
    "3. It can be part of a browser extension that blocks hateful content from social media sites in a similar way that AdBlock blocks ads. (You can even give it a fun name like TrollBlock).\n",
    "\n",
    "4. It can be used to pre-screen DMs before you get a chance to see them. This can be helpful for some people, particularly public figures and content creators, but of course it brings up some privacy concerns which I will not address here."
   ]
  },
  {
   "cell_type": "markdown",
   "id": "fbd16aa0-22cc-41d8-94af-cedb6f1cbeeb",
   "metadata": {
    "tags": []
   },
   "source": [
    "## Dataset\n",
    "### Hate Speech and Offensive Language Dataset by Davidson et. al\n",
    "\n",
    "This dataset was developed by researchers at Cornell University, who wanted to improve traditional hate speech classifiers which relied too much on offensive language detection and could not differentiate between the use of an offensive term and actual hate speech. This dataset makes a distinction between text that contains hate speech and offensive content, which should make hate speech classifiers more accurate when it comes to classifying text that is offensive yet is not considered hate speech. I will be using this dataset to identify instances of English language hate speech and offensive content. I chose this dataset because of its direct connection to the topic, and because it is interesting.\n",
    "\n",
    "This dataset contains around 24.8k English language tweets that can contain either hate speech or offensive language, and there are also tweets that contain neither. The classification of these tweets has been crowdsourced by a platform called CrowdFlower which is a data collection agency that seems to have been renamed to Figure Eight, and then acquired by an Australian data company named Appen in recent years.\n",
    "\n",
    "Since the line between hate speech and offensive language is not very well defined, and since not everyone agrees on what is offensive or not, datasets like these will always have a degree of bias or subjectivity. It seems that researchers are aware of this issue because I have noticed that some hate speech datasets have multiple people classifying each example. In this dataset each example is classfied by a group of 3 to 9 people. This 'wisdom of the crowd' approach will help with the inherent bias present in this domain, but of course it will not eliminate it.\n",
    "\n",
    "\n",
    "The columns of interest in this dataset are:\n",
    "\n",
    "| Name               | Type                  | Description                                                  |\n",
    "| ------------------ | --------------------- | ------------------------------------------------------------ |\n",
    "| count              | Integer               | Number of people who classified this tweet as containing hate speech, offensive language, or neither |\n",
    "| hate_speech        | Integer               | How many people classified this tweet as containing hate speech |\n",
    "| offensive_language | Integer               | How many people classified this tweet as containing offensive language |\n",
    "| neither            | Integer               | How many people classified this tweet as neither containing hate speech or offensive language |\n",
    "| class              | Integer (Categorical) | This number represents the what the majority of people classified this tweet as.<br/>      0 = hate speech<br/>      1 = offensive language<br/>      2 = neither |\n",
    "| tweet              | Text                  | The text content of the tweet                                |\n"
   ]
  },
  {
   "cell_type": "markdown",
   "id": "e5c23699-ec08-419a-9d05-9edf528df0cd",
   "metadata": {},
   "source": [
    "# Evaluation Methodology \n",
    "\n",
    "#### Checking for Class Imbalance in the Davidson Dataset\n",
    "\n",
    "The choice of evaluation metrics will be fueled by whether or not there is a class imbalance included in this dataset. We can check this easily with pandas, and graph the results. "
   ]
  },
  {
   "cell_type": "code",
   "execution_count": 2,
   "id": "d3c656f9-c173-4fc8-9c26-dbda06aa90fd",
   "metadata": {},
   "outputs": [],
   "source": [
    "# Read the dataset with pandas\n",
    "davidson_preview = pd.read_csv(DAVIDSON_DATA_PATH, index_col=0)"
   ]
  },
  {
   "cell_type": "code",
   "execution_count": 3,
   "id": "39955002-66b8-49a3-a464-379f2deee3bc",
   "metadata": {},
   "outputs": [
    {
     "data": {
      "text/plain": [
       "Offensive Language    19190\n",
       "Neither                4163\n",
       "Hate Speech            1430\n",
       "Name: class, dtype: int64"
      ]
     },
     "execution_count": 3,
     "metadata": {},
     "output_type": "execute_result"
    }
   ],
   "source": [
    "# Get the count of each class, and rename the index for clarity\n",
    "class_count = davidson_preview['class'].value_counts().rename(index={\n",
    "    0: 'Hate Speech',\n",
    "    1: 'Offensive Language',\n",
    "    2: 'Neither'\n",
    "})\n",
    "\n",
    "class_count"
   ]
  },
  {
   "cell_type": "code",
   "execution_count": 4,
   "id": "312e20f3-2810-4576-8362-621ebed026f4",
   "metadata": {},
   "outputs": [
    {
     "data": {
      "text/plain": [
       "Offensive Language    0.774\n",
       "Neither               0.168\n",
       "Hate Speech           0.058\n",
       "Name: class, dtype: float64"
      ]
     },
     "execution_count": 4,
     "metadata": {},
     "output_type": "execute_result"
    }
   ],
   "source": [
    "# Class count as percentages\n",
    "(class_count / class_count.sum()).round(3)"
   ]
  },
  {
   "cell_type": "markdown",
   "id": "a809177c-ea84-4803-8354-781cfb917a33",
   "metadata": {},
   "source": [
    "So, we can see that this is a very imbalanced dataset with around 77% of the tweets containing offensive language, 17% containing non-offensive language, and only 6% containing hate speech.\n",
    "\n",
    "Let's make this class imbalance clearer by plotting it."
   ]
  },
  {
   "cell_type": "code",
   "execution_count": 5,
   "id": "9d02cd32-2f37-4299-911a-c5261cb2e133",
   "metadata": {},
   "outputs": [
    {
     "data": {
      "image/png": "[encoded data removed]",
      "text/plain": [
       "<Figure size 720x576 with 1 Axes>"
      ]
     },
     "metadata": {
      "needs_background": "light"
     },
     "output_type": "display_data"
    }
   ],
   "source": [
    "# Increase figure size\n",
    "plt.figure(figsize=(10, 8))\n",
    "\n",
    "# Use the built-in plotting functionality of pandas to create a bar plot\n",
    "class_count.plot(kind='bar',\n",
    "                 rot=0,\n",
    "                 xlabel='Tweet Type',\n",
    "                 ylabel='Number of tweets',\n",
    "                 title='Class Imbalance in Davidson Dataset',\n",
    "                 fontsize=12);"
   ]
  },
  {
   "cell_type": "markdown",
   "id": "49126cbe-fbe1-4fb6-be02-ebf8c2d53be2",
   "metadata": {},
   "source": [
    "### Metrics for Davidson Dataset"
   ]
  },
  {
   "cell_type": "markdown",
   "id": "1b782b14-589a-461e-a9b0-1e9f75a2a736",
   "metadata": {},
   "source": [
    "Because of the massive class imbalance in this dataset we will not be focusing on accuracy as a metric. A high accuracy score on an imbalanced data is misleading, as you will see in the performance baseline section. We will be looking at the precision and recall scores of our classifiers when evaluating them. For this particular application I believe that having a high recall score is more important than a high precision score. Classifiers like these are usually used to flag user submitted content for review by a moderation team, who will decide whether the content is against the terms of service of the platform or not. Having a high recall is important to avoid potentially harmful content from appearing on the platform, whereas having a low precision will make the job of the content moderation team more difficult. We will mainly be looking at the F1 score, which is just the harmonic mean of the precision and recall scores. To get a high F1 score you will need to have high precision and recall scores.\n",
    "\n",
    "This dataset is also a multi-class dataset so we will need to take into account the averaged scores of the precision, recall, and F1 scores. For example, to calculate the F1 score of a classifier on this dataset we will need to calculate the F1 score for each class and then average the results. In practice, scikit-learn will just do that for us.\n",
    "\n",
    "#### Scikit-Learn Averaging Strategies\n",
    "\n",
    "Scikit-learn has different methods for calculating precision, recall, and F1 scores for multi-class problems and since these different methods could give you wildly different results it is worth talking about them. The three strategies I considered for problem are `micro`, `macro`, and `weighted`.\n",
    "\n",
    "##### Micro\n",
    "\n",
    "The `micro` strategy simply sums up the total amount of true positives, false positives, and false negatives when calculating precision and recall. It does not calculate the precision and recall scores for each class, and it does not take class imbalance into account.\n",
    "\n",
    "##### Macro\n",
    "\n",
    "The `macro` strategy calculates the precision and recall scores for each class and the resulting precision/recall score is the average of precision/recall score of each class. It does not take into account class imbalance.\n",
    "\n",
    "##### Weighted\n",
    "\n",
    "The `weighted` strategy is similar to the `macro` strategy but it takes class imbalance into account by giving a weight to each class based on how represented that class is in the test data.\n",
    "\n",
    "I mainly looked at the `macro` precision/recall/F1 score of the classifiers I built in this notebook because even though I am working with an imbalanced dataset, every class has equal importance. I want my classifier to be able to identify instances of each class correctly, but if I chose the `weighted` strategy I would be able to get a high F1 score by performing poorly in the hate speech class, but doing very well in the other two classes."
   ]
  },
  {
   "cell_type": "markdown",
   "id": "4747ee03-a27f-42b7-b9c1-fc89b3698b6a",
   "metadata": {},
   "source": [
    "# Implementation "
   ]
  },
  {
   "cell_type": "markdown",
   "id": "50cfdddb-9869-46e0-a1c6-88a994ed9962",
   "metadata": {},
   "source": [
    "## Baseline Performance"
   ]
  },
  {
   "cell_type": "markdown",
   "id": "48256ab5-4812-4798-a1d2-d5c527506079",
   "metadata": {},
   "source": [
    "We will be using two classifiers as baselines for the Davidson dataset, with one of them being more realistic than the other.\n",
    "### Dummy Classifier"
   ]
  },
  {
   "cell_type": "markdown",
   "id": "8aecf28c-8324-4428-8263-5e6e7386f5d3",
   "metadata": {},
   "source": [
    "This classifier will classify every example as being offensive. It will have a surprisingly high accuracy score because of the class imbalance, but of course it is not a good classifier."
   ]
  },
  {
   "cell_type": "code",
   "execution_count": 6,
   "id": "2567575d-609a-4717-809d-5f3399e8d832",
   "metadata": {},
   "outputs": [],
   "source": [
    "from sklearn.dummy import DummyClassifier\n",
    "\n",
    "# The sklearn DummyClassifier class makes it possible to create dumb classifiers like this\n",
    "dummy = DummyClassifier(strategy='constant', constant=1)"
   ]
  },
  {
   "cell_type": "code",
   "execution_count": 7,
   "id": "1eaff1e8-e50f-4647-9cec-f0ede5d10e76",
   "metadata": {},
   "outputs": [],
   "source": [
    "# There's no need to split the dataset into training and test sets\n",
    "X = davidson_preview['tweet']\n",
    "y = davidson_preview['class']"
   ]
  },
  {
   "cell_type": "code",
   "execution_count": 8,
   "id": "1de464aa-292b-406c-9555-1326955dbda4",
   "metadata": {},
   "outputs": [],
   "source": [
    "dummy.fit(X, y)  # does nothing\n",
    "\n",
    "# This will just be an array of 1s\n",
    "dummy_preds = dummy.predict(X)"
   ]
  },
  {
   "cell_type": "code",
   "execution_count": 9,
   "id": "e2c0204e-1b3f-4ebd-bdd1-3e9b2599ec71",
   "metadata": {},
   "outputs": [
    {
     "data": {
      "text/plain": [
       "array([1, 1, 1, 1, 1, 1, 1, 1, 1, 1, 1, 1, 1, 1, 1, 1, 1, 1, 1, 1, 1, 1,\n",
       "       1, 1, 1, 1, 1, 1, 1, 1, 1, 1, 1, 1, 1, 1, 1, 1, 1, 1, 1, 1, 1, 1,\n",
       "       1, 1, 1, 1, 1, 1, 1, 1, 1, 1, 1, 1, 1, 1, 1, 1, 1, 1, 1, 1, 1, 1,\n",
       "       1, 1, 1, 1, 1, 1, 1, 1, 1, 1, 1, 1, 1, 1, 1, 1, 1, 1, 1, 1, 1, 1,\n",
       "       1, 1, 1, 1, 1, 1, 1, 1, 1, 1, 1, 1])"
      ]
     },
     "execution_count": 9,
     "metadata": {},
     "output_type": "execute_result"
    }
   ],
   "source": [
    "# Preview of the 'predicitions'\n",
    "dummy_preds[:100]"
   ]
  },
  {
   "cell_type": "markdown",
   "id": "f9e53a3e-3a3e-4d57-92c1-2733cb554271",
   "metadata": {},
   "source": [
    "We'll now write a function that we will use throughout this notebook to evaluate our classifiers."
   ]
  },
  {
   "cell_type": "code",
   "execution_count": 10,
   "id": "22c2e353-1cec-40d7-869b-5c8cd56d282f",
   "metadata": {},
   "outputs": [],
   "source": [
    "def evaluate_classifier(classifier, X, y, print_results=True, averaging_strategy=\"macro\"):\n",
    "    \"\"\"\n",
    "    Computes several metrics to evaluate the performance of a scikit-learn classifier\n",
    "    The metrics calculated are [Accuracy, Precision, Recall, F1 Score]\n",
    "\n",
    "    Parameters\n",
    "    ----------\n",
    "    classifier : scikit-learn classifier\n",
    "        The classifier used to generate predictions on the test set\n",
    "        \n",
    "    X : numpy array or pandas DataFrame\n",
    "        The test set\n",
    "        \n",
    "    y : numpy array or pandas Series\n",
    "        The labels for the test set\n",
    "        \n",
    "    print_results : bool, optional\n",
    "        Whether to print the metrics calculated \n",
    "        or to return them as a tuple, by default True\n",
    "        \n",
    "    averaging_strategy : str, optional\n",
    "        What averaging strategy to use for \n",
    "        multi-class problems, by default \"macro\"\n",
    "\n",
    "    Returns\n",
    "    -------\n",
    "    None or tuple\n",
    "        Returns nothing if print_results is True,\n",
    "        else returns a tuple of the metrics calculated\n",
    "    \"\"\"\n",
    "    preds = classifier.predict(X)\n",
    "\n",
    "    accuracy = accuracy_score(y, preds)\n",
    "    precision = precision_score(y, preds, average='macro')\n",
    "    recall = recall_score(y, preds, average='macro')\n",
    "    f1 = f1_score(y, preds, average='macro')\n",
    "\n",
    "    if print_results:\n",
    "        print(\"Accuracy: \", accuracy)\n",
    "        print(\"Precision: \", precision)\n",
    "        print(\"Recall: \", recall)\n",
    "        print(\"F1 Score: \", f1)\n",
    "    else:\n",
    "        return accuracy, precision, recall, f1"
   ]
  },
  {
   "cell_type": "code",
   "execution_count": 11,
   "id": "92b52682-26a8-4162-b19b-8751db353905",
   "metadata": {},
   "outputs": [
    {
     "name": "stdout",
     "output_type": "stream",
     "text": [
      "Accuracy:  0.7743211072105879\n",
      "Precision:  0.2581070357368626\n",
      "Recall:  0.3333333333333333\n",
      "F1 Score:  0.29093610473093334\n"
     ]
    },
    {
     "name": "stderr",
     "output_type": "stream",
     "text": [
      "C:\\ProgramData\\Miniconda3\\envs\\nlp-mid\\lib\\site-packages\\sklearn\\metrics\\_classification.py:1308: UndefinedMetricWarning: Precision is ill-defined and being set to 0.0 in labels with no predicted samples. Use `zero_division` parameter to control this behavior.\n",
      "  _warn_prf(average, modifier, msg_start, len(result))\n"
     ]
    }
   ],
   "source": [
    "evaluate_classifier(dummy, X, y)"
   ]
  },
  {
   "cell_type": "markdown",
   "id": "fede9745-8496-44cb-93be-d7c16f01db10",
   "metadata": {},
   "source": [
    "So we get a high accuracy, but very poor precision, recall, and F1 scores.\n",
    "\n",
    "Let us see what a more realistic baseline looks like."
   ]
  },
  {
   "cell_type": "markdown",
   "id": "e921b5a1-9751-4461-8aca-f5ac5bfe1715",
   "metadata": {},
   "source": [
    "### Keyword Detection"
   ]
  },
  {
   "cell_type": "markdown",
   "id": "5d2c78ed-02ba-4cdc-ac11-e8d444fc7800",
   "metadata": {},
   "source": [
    "One of the earliest methods of text classification was based on keyword detection. The presence of a keyword in a document would tell you whether or not that document belongs to a certain class or not. This works well for simple problems, but is not well suited to more sophisticated issues like categorizing articles, detecting spam, hateful content, or fake news. In particular, these keyword-based classifiers tend to have high recall and low precision. Building a keyword-based classifier to detect hate speech would be particularly difficult because it is possible to use an offensive word in a non-hateful way, and it is also possible to be hateful without using an offensive word. Furthermore, the keyword list would have to be very comprehensive and continually updated to identify new words that are being used in an offensive context.\n",
    "\n",
    "We will build a basic keyword detection classifier based on a publicly available list of offensive words collected by hurtlex. The list seems to be very comprehensive with over 8,000 terms in the English lexicon. There is also additional information for each term in the lexicon, but we are only interested in the offensive terms. We will also use random choice to determine if a tweet containing an offensive word is classified as hate speech or as offensive language, since there is no other obvious way to do approach this problem using keyword detection alone."
   ]
  },
  {
   "cell_type": "code",
   "execution_count": 12,
   "id": "743cc8de-695b-42ed-abc1-68ae566cbace",
   "metadata": {},
   "outputs": [],
   "source": [
    "# Load the hurtlex data and only select the word column\n",
    "hurtlex = pd.read_csv(HURTLEX_DATA_PATH, sep='\\t')['lemma']\n",
    "\n",
    "# Turn the list into a python set\n",
    "hurtlex = set(hurtlex)"
   ]
  },
  {
   "cell_type": "markdown",
   "id": "94d05fea-d1f3-4ab6-9834-9e7c0541d7f3",
   "metadata": {},
   "source": [
    "I will not preview this list for obvious reasons."
   ]
  },
  {
   "cell_type": "code",
   "execution_count": 13,
   "id": "ab504ee4-c64b-4848-8ce1-18f752066303",
   "metadata": {},
   "outputs": [],
   "source": [
    "class KeywordClassifier:\n",
    "    \"\"\"\n",
    "    A classifier with a similar API to a scikit-learn classifier \n",
    "    that classifies documents based on the presence of a keyword.\n",
    "    \"\"\"\n",
    "    def __init__(self, keywords):\n",
    "        \"\"\"\n",
    "        Constructor for the Keyword classifier.\n",
    "        Uses a set of user provided keywords and \n",
    "        initializes a tokenizer from nltk\n",
    "\n",
    "        Parameters\n",
    "        ----------\n",
    "        keywords : set or list\n",
    "            A set or list of keywords to use when classifying documents\n",
    "        \"\"\"\n",
    "        self.keywords = keywords\n",
    "\n",
    "        # Use nltk's specialized tweet tokenizer\n",
    "        self.tokenizer = TweetTokenizer(preserve_case=False).tokenize\n",
    "\n",
    "    def fit(self, X, y):\n",
    "        \"\"\"\n",
    "        Dummy fit method that does nothing\n",
    "\n",
    "        Parameters\n",
    "        ----------\n",
    "        X : numpy array\n",
    "            Array of string values\n",
    "            \n",
    "        y : numpy array\n",
    "            Labels for the features matrix\n",
    "        \"\"\"\n",
    "        pass  # do nothing\n",
    "\n",
    "    def predict(self, X):\n",
    "        \"\"\"\n",
    "        Produce predictions on given data\n",
    "\n",
    "        Parameters\n",
    "        ----------\n",
    "        X : numpy array\n",
    "            Array of string values\n",
    "\n",
    "        Returns\n",
    "        -------\n",
    "        numpy array\n",
    "            An array of predictions\n",
    "        \"\"\"\n",
    "\n",
    "        # We need to vectorize the _keyword_check method in order\n",
    "        # for it to work with numpy arrays\n",
    "        kw_check = np.vectorize(self._keyword_check)\n",
    "\n",
    "        # Produce predictions\n",
    "        preds = kw_check(X)\n",
    "        return preds\n",
    "\n",
    "    def _keyword_check(self, document):\n",
    "        \"\"\"\n",
    "        Tokenizes a document and checks if it\n",
    "        contains any keyword in self.keywords. \n",
    "        \n",
    "        Private method.\n",
    "\n",
    "        Parameters\n",
    "        ----------\n",
    "        document : str\n",
    "            A single string value to check for keywords            \n",
    "\n",
    "        Returns\n",
    "        -------\n",
    "        int\n",
    "            A prediction based on the presence of a keyword or not\n",
    "        \"\"\"\n",
    "\n",
    "        # Tokenize the document\n",
    "        tokens = self.tokenizer(document)\n",
    "\n",
    "        # Check every token to see if it contains a key word\n",
    "        for token in tokens:\n",
    "            if token in self.keywords:\n",
    "                # Random choice\n",
    "                return np.random.choice([0, 1])\n",
    "        return 2"
   ]
  },
  {
   "cell_type": "code",
   "execution_count": 14,
   "id": "558ee79a-b273-4821-9662-67f0360c99e8",
   "metadata": {},
   "outputs": [],
   "source": [
    "kw_clf = KeywordClassifier(hurtlex)\n",
    "\n",
    "kw_clf.fit(X, y)  # does nothing"
   ]
  },
  {
   "cell_type": "code",
   "execution_count": 15,
   "id": "7f1e0ee1-d398-47aa-b023-87b1b0249d63",
   "metadata": {},
   "outputs": [
    {
     "name": "stdout",
     "output_type": "stream",
     "text": [
      "Accuracy:  0.42069160311503856\n",
      "Precision:  0.401606285885126\n",
      "Recall:  0.40047703930431205\n",
      "F1 Score:  0.3370591947065739\n"
     ]
    }
   ],
   "source": [
    "evaluate_classifier(kw_clf, X, y, print_results=True)"
   ]
  },
  {
   "cell_type": "markdown",
   "id": "743fac2f-d19e-45e4-bcb7-7cffb3f642bc",
   "metadata": {},
   "source": [
    "The results are interesting. Compared to the dummy classifier our accuracy is much worse, but our precision, recall, and F1 scores have significantly improved.\n",
    "\n",
    "We can try to make this keyword-based classifier more sophisticated to try to improve the score, but we will likely not get a reasonable score. This approach is far too simplistic for this issue. It is clear that this is not a simple problem, so we will try to solve it with machine learning, but first we will have to preprocess the tweets in the dataset."
   ]
  },
  {
   "cell_type": "markdown",
   "id": "a4cdcdb4-9725-4eb5-9706-0ad4d83833e3",
   "metadata": {},
   "source": [
    "## Preprocessing the Davidson Dataset"
   ]
  },
  {
   "cell_type": "markdown",
   "id": "fe7eca92-677f-47f5-aa7c-2518eed1cb14",
   "metadata": {},
   "source": [
    "Let's read the dataset and preview it."
   ]
  },
  {
   "cell_type": "code",
   "execution_count": 16,
   "id": "1721c8cd-a13e-4306-adc0-40b72c7038b9",
   "metadata": {},
   "outputs": [
    {
     "data": {
      "text/html": [
       "<div>\n",
       "<style scoped>\n",
       "    .dataframe tbody tr th:only-of-type {\n",
       "        vertical-align: middle;\n",
       "    }\n",
       "\n",
       "    .dataframe tbody tr th {\n",
       "        vertical-align: top;\n",
       "    }\n",
       "\n",
       "    .dataframe thead th {\n",
       "        text-align: right;\n",
       "    }\n",
       "</style>\n",
       "<table border=\"1\" class=\"dataframe\">\n",
       "  <thead>\n",
       "    <tr style=\"text-align: right;\">\n",
       "      <th></th>\n",
       "      <th>count</th>\n",
       "      <th>hate_speech</th>\n",
       "      <th>offensive_language</th>\n",
       "      <th>neither</th>\n",
       "      <th>class</th>\n",
       "    </tr>\n",
       "  </thead>\n",
       "  <tbody>\n",
       "    <tr>\n",
       "      <th>0</th>\n",
       "      <td>3</td>\n",
       "      <td>0</td>\n",
       "      <td>0</td>\n",
       "      <td>3</td>\n",
       "      <td>2</td>\n",
       "    </tr>\n",
       "    <tr>\n",
       "      <th>1</th>\n",
       "      <td>3</td>\n",
       "      <td>0</td>\n",
       "      <td>3</td>\n",
       "      <td>0</td>\n",
       "      <td>1</td>\n",
       "    </tr>\n",
       "    <tr>\n",
       "      <th>2</th>\n",
       "      <td>3</td>\n",
       "      <td>0</td>\n",
       "      <td>3</td>\n",
       "      <td>0</td>\n",
       "      <td>1</td>\n",
       "    </tr>\n",
       "    <tr>\n",
       "      <th>3</th>\n",
       "      <td>3</td>\n",
       "      <td>0</td>\n",
       "      <td>2</td>\n",
       "      <td>1</td>\n",
       "      <td>1</td>\n",
       "    </tr>\n",
       "    <tr>\n",
       "      <th>4</th>\n",
       "      <td>6</td>\n",
       "      <td>0</td>\n",
       "      <td>6</td>\n",
       "      <td>0</td>\n",
       "      <td>1</td>\n",
       "    </tr>\n",
       "  </tbody>\n",
       "</table>\n",
       "</div>"
      ],
      "text/plain": [
       "   count  hate_speech  offensive_language  neither  class\n",
       "0      3            0                   0        3      2\n",
       "1      3            0                   3        0      1\n",
       "2      3            0                   3        0      1\n",
       "3      3            0                   2        1      1\n",
       "4      6            0                   6        0      1"
      ]
     },
     "execution_count": 16,
     "metadata": {},
     "output_type": "execute_result"
    }
   ],
   "source": [
    "# Read the csv into a pandas DataFrame and use the new performant string data type for the text field\n",
    "davidson_preview = pd.read_csv(DAVIDSON_DATA_PATH,\n",
    "                               index_col=0).astype({'tweet': 'string'})\n",
    "\n",
    "# I am not previewing the tweet column because of offensive language\n",
    "preview_columns = davidson_preview.columns[:-1]\n",
    "\n",
    "davidson_preview[preview_columns].head()"
   ]
  },
  {
   "cell_type": "markdown",
   "id": "4073ad74-fe4f-41c1-8ded-97f68f309c5d",
   "metadata": {},
   "source": [
    "Let's look closer at some of the tweets. I will be censoring the offensive language language that is present in some of these tweets."
   ]
  },
  {
   "cell_type": "code",
   "execution_count": 17,
   "id": "7d8e534d-8a21-455f-877f-42eb6da81746",
   "metadata": {},
   "outputs": [],
   "source": [
    "def preview_tweets(dataset, speech_type, censor=True, num_examples=4):\n",
    "    \"\"\"\n",
    "    Helper function to preview tweets from the Davidson dataset\n",
    "\n",
    "    Parameters\n",
    "    ----------\n",
    "    dataset : pandas Dataframe\n",
    "        The Davidson dataset\n",
    "\n",
    "    speech_type : str\n",
    "        The class of tweet you want to see examples of.\n",
    "        Can be ['hate', 'offensive', 'neither]\n",
    "\n",
    "    censor : bool, optional\n",
    "        Whether to censor the tweets or not, by default True\n",
    "\n",
    "    num_examples : int, optional\n",
    "        The number of tweets you want to see, by default 4\n",
    "    \"\"\"\n",
    "\n",
    "    # Look up table for the different tweet classes\n",
    "    speech_types = {\n",
    "        'hate': 0,\n",
    "        'offensive': 1,\n",
    "        'neither': 2,\n",
    "    }\n",
    "\n",
    "    # Get the desired tweet class\n",
    "    speech_class = speech_types[speech_type]\n",
    "\n",
    "    # Boolean mask of tweets of class `speech_class`\n",
    "    mask = dataset['class'] == speech_class\n",
    "\n",
    "    # Get a random sample of tweets from the class `speech_class`\n",
    "    tweets = dataset[mask].sample(num_examples, random_state=SEED_NUM)['tweet']\n",
    "\n",
    "    # Censor the tweets if desired\n",
    "    if censor:\n",
    "        for tweet in tweets:\n",
    "            print(profanity.censor(unescape(tweet)), end=\"\\n\\n\")\n",
    "    else:\n",
    "        for tweet in tweets:\n",
    "            print(unescape(tweet), end=\"\\n\\n\")"
   ]
  },
  {
   "cell_type": "code",
   "execution_count": 18,
   "id": "2a4aaa3b-45b1-43a0-9e9a-2d7e0001b427",
   "metadata": {},
   "outputs": [
    {
     "name": "stdout",
     "output_type": "stream",
     "text": [
      "Zimmerman we comin for yo life ****. http://t.co/KHdZ1vdnSK\n",
      "\n",
      "@GlitteredInPink hoe don't tweet me\n",
      "\n",
      "RT @Moisessp14: Look at u now u pregnant **** **** lol\n",
      "\n",
      "@King_Albert21 @Ceto_13 u pulled.that **** **** as spon as u put no **** lol\n",
      "\n"
     ]
    }
   ],
   "source": [
    "preview_tweets(davidson_preview, 'hate')"
   ]
  },
  {
   "cell_type": "code",
   "execution_count": 19,
   "id": "dafaa640-8d6e-40b5-8a4e-d229d8a8dc17",
   "metadata": {},
   "outputs": [
    {
     "name": "stdout",
     "output_type": "stream",
     "text": [
      "You know a **** mad when she throw her drink 😂 now she got to find another **** to buy her another one\n",
      "\n",
      "RT @Males_Thoughts: No **** **** chick flick will ever be as sad as this movie http://t.co/o0sk0SM40f\n",
      "\n",
      "\"@midyWIDEY_: I'm rea start smacking **** period !\" Bluffin at its best\n",
      "\n",
      "wow im a ****????? nice to **** know.\n",
      "\n"
     ]
    }
   ],
   "source": [
    "preview_tweets(davidson_preview, 'offensive')"
   ]
  },
  {
   "cell_type": "code",
   "execution_count": 20,
   "id": "19e92c3d-e33b-4a0b-b429-3ed7d9e5caf1",
   "metadata": {},
   "outputs": [
    {
     "name": "stdout",
     "output_type": "stream",
     "text": [
      "RT @dallywaggz12: “@JustReIatabIe: Charlie Sheen gets point for this http://t.co/V6v0d77oBM”\n",
      "\n",
      "RT @zippy1981: @voretaq7 from a TDD POV linux is just a mock for the kernel of the GNU/HURD system.\n",
      "\n",
      "Munching on ww crackers & studying NYCs trans syst. Since NYC & I haven't had a thing in over 15 yrs #clubinsomnia #vacay\n",
      "\n",
      "Friends don't let friends become guidos. #themoreyouknow\n",
      "\n"
     ]
    }
   ],
   "source": [
    "preview_tweets(davidson_preview, 'neither')"
   ]
  },
  {
   "cell_type": "markdown",
   "id": "482aa16e-0848-45a7-a8bf-a9b71be39f20",
   "metadata": {},
   "source": [
    "Since this dataset only contains tweets, there is a lot of twitter specific information that could cause our classifiers to learn the noise rather than the actual English language. Things like URLs, @ symbols, and the RT at the start of a retweet. We will have to remove this noise before training a classifier on it. Other ways to remove noise from text data is by removing punctuation marks, capital letters, and stop words. Stop words are commonly used words in the English language that, by themselves, do not provide a text classifier with much information. The NLTK module comes with a list of stop words that can be used to filter text with."
   ]
  },
  {
   "cell_type": "code",
   "execution_count": 21,
   "id": "5bc929fa-b44f-4d68-8a82-20222bdb2a0b",
   "metadata": {},
   "outputs": [
    {
     "name": "stdout",
     "output_type": "stream",
     "text": [
      "['i', 'me', 'my', 'myself', 'we', 'our', 'ours', 'ourselves', 'you', \"you're\", \"you've\", \"you'll\", \"you'd\", 'your', 'yours', 'yourself', 'yourselves', 'he', 'him', 'his']\n"
     ]
    }
   ],
   "source": [
    "from nltk.corpus import stopwords\n",
    "\n",
    "# Get the list of stopwords from nltk\n",
    "eng_stopwords = stopwords.words('english')\n",
    "\n",
    "# Preview some of them\n",
    "print(eng_stopwords[:20])"
   ]
  },
  {
   "cell_type": "markdown",
   "id": "c2fa998d-d941-4624-a355-bfd8cd13a690",
   "metadata": {},
   "source": [
    "Here is an example of how you might remove stopwords from a sentence:"
   ]
  },
  {
   "cell_type": "code",
   "execution_count": 22,
   "id": "47de793a-0b7e-44db-9cfd-9551f2fceb90",
   "metadata": {},
   "outputs": [
    {
     "name": "stdout",
     "output_type": "stream",
     "text": [
      "You great person I hope nice day\n"
     ]
    }
   ],
   "source": [
    "example_sent = 'You are a great person and I hope you have a nice day'\n",
    "\n",
    "example_tokens = example_sent.split(' ')\n",
    "\n",
    "# Filter the words with a list comprehension\n",
    "filtered_tokens = [word for word in example_tokens if word not in eng_stopwords]\n",
    "\n",
    "filtered_sent = ' '.join(filtered_tokens)\n",
    "\n",
    "print(filtered_sent)"
   ]
  },
  {
   "cell_type": "markdown",
   "id": "1033aa3d-5708-4b06-953d-2c2439bec712",
   "metadata": {},
   "source": [
    "In the above code block we converted our example sentence into tokens by splitting on a single whitespace charater. This process is called tokenization, and it is needed to create a bag of words representation of our text. Splitting on a single whitespace worked for the above example, but it will not work quite as well when there are multiple whitespaces, line breaks, contractions, or odd punctuation. All of these are common on twitter and luckily for us NLTK actuallly comes with a tokenizer made specifically for tweets. Here is how you might use it."
   ]
  },
  {
   "cell_type": "code",
   "execution_count": 23,
   "id": "a9e742cf-a171-4a83-9517-b772525546d7",
   "metadata": {},
   "outputs": [
    {
     "name": "stdout",
     "output_type": "stream",
     "text": [
      "\"@FunnyPicsDepot: this the \"I play soccer, cheat on girls, and wear khaki coloured cargos\" haircut http://t.co/ZUai7qWBIR\" 😂 yup\n",
      "\n",
      "Tokens =  ['\"', ':', 'this', 'the', '\"', 'i', 'play', 'soccer', ',', 'cheat', 'on', 'girls', ',', 'and', 'wear', 'khaki', 'coloured', 'cargos', '\"', 'haircut', 'http://t.co/ZUai7qWBIR', '\"', '😂', 'yup']\n"
     ]
    }
   ],
   "source": [
    "# Boolean mask of non offensive tweets \n",
    "non_offensive = davidson_preview['class'] == 2\n",
    "\n",
    "# One example of a non offensive tweet\n",
    "example_tweet = unescape(davidson_preview[non_offensive]['tweet'].iloc[12])\n",
    "\n",
    "print(example_tweet, end=\"\\n\\n\")\n",
    "\n",
    "# Initializing nltk's TweetTokenizer class\n",
    "tokenizer = TweetTokenizer(preserve_case=False,\n",
    "                           reduce_len=True,\n",
    "                           strip_handles=True,\n",
    "                           match_phone_numbers=False)\n",
    "\n",
    "# Tokenize the tweet\n",
    "tokenized_tweet = tokenizer.tokenize(example_tweet)\n",
    "\n",
    "print(\"Tokens = \", tokenized_tweet)"
   ]
  },
  {
   "cell_type": "markdown",
   "id": "94daed53-0f0f-4051-9bc9-38dc3029a90b",
   "metadata": {},
   "source": [
    "We can see that the tokenizer removed the @ mentions from twitter and did a good job with tokenizing the tweet, except for recognizing some punctuation as actual tokens. We do not want punctuation to be included in our tokens so we will have to remove punctuation from the tweets before tokenizing.\n",
    "\n",
    "I will use a python module named neattext to do a lot of the text cleaning in this assignment. Below is a demonstration of neattext."
   ]
  },
  {
   "cell_type": "code",
   "execution_count": 24,
   "id": "e0665c74-f996-4918-b93b-2110d9220f01",
   "metadata": {},
   "outputs": [
    {
     "data": {
      "text/plain": [
       "'@FunnyPicsDepot: this the I play soccer cheat on girls and wear khaki coloured cargos haircut http://tco/ZUai7qWBIR 😂 yup'"
      ]
     },
     "execution_count": 24,
     "metadata": {},
     "output_type": "execute_result"
    }
   ],
   "source": [
    "# We imported the neatext module as nt earlier\n",
    "\n",
    "nt.remove_puncts(example_tweet)"
   ]
  },
  {
   "cell_type": "code",
   "execution_count": 25,
   "id": "4796fd38-cfb6-412b-9fdd-5baac139ff51",
   "metadata": {},
   "outputs": [
    {
     "data": {
      "text/plain": [
       "'\"@FunnyPicsDepot: this the \"I play soccer, cheat on girls, and wear khaki coloured cargos\" haircut  😂 yup'"
      ]
     },
     "execution_count": 25,
     "metadata": {},
     "output_type": "execute_result"
    }
   ],
   "source": [
    "nt.remove_urls(example_tweet)"
   ]
  },
  {
   "cell_type": "code",
   "execution_count": 26,
   "id": "dc268010-dd38-46b6-875f-184d2ba41772",
   "metadata": {},
   "outputs": [
    {
     "data": {
      "text/plain": [
       "'@funnypicsdepot: this the i play soccer cheat on girls and wear khaki coloured cargos haircut http://tco/zuai7qwbir yup'"
      ]
     },
     "execution_count": 26,
     "metadata": {},
     "output_type": "execute_result"
    }
   ],
   "source": [
    "# Do all of the above (and more) in one function\n",
    "nt.clean_text(example_tweet,\n",
    "              urls=True,\n",
    "              puncts=True,\n",
    "              emails=True,\n",
    "              stopwords=False,\n",
    "              contractions=True,\n",
    "              multiple_whitespaces=True)"
   ]
  },
  {
   "cell_type": "markdown",
   "id": "6dc347a6-1e42-4785-96e9-9145af716b9b",
   "metadata": {},
   "source": [
    "We are going to be creating a custom text cleaning transformer so we can use it in scikit-learn pipelines. Pipelines make things like hyper-parameter tuning and model selection much easier."
   ]
  },
  {
   "cell_type": "code",
   "execution_count": 27,
   "id": "56cc65dd-6ac6-435c-80df-d1a31482c99f",
   "metadata": {},
   "outputs": [],
   "source": [
    "# This is helpful when you want to call a \n",
    "# function with specific arguments\n",
    "from functools import partial\n",
    "\n",
    "# We need to inherit from these two clases to\n",
    "# be able to create a scikit-learn transformer\n",
    "from sklearn.base import BaseEstimator, TransformerMixin\n",
    "\n",
    "\n",
    "class TextCleaner(BaseEstimator, TransformerMixin):\n",
    "    \"\"\"\n",
    "    Custom text cleaning scikit-learn transformer\n",
    "\n",
    "    Inherits from: BaseEstimator, TransformerMixin\n",
    "    \"\"\"\n",
    "\n",
    "    def fit(self, X, y=None):\n",
    "        \"\"\"\n",
    "        Dummy fit method.\n",
    "        Does nothing but is needed.\n",
    "\n",
    "        Parameters\n",
    "        ----------\n",
    "        X : numpy array or pandas DataFrame\n",
    "            Array of string values\n",
    "\n",
    "        y : numpy array, optional\n",
    "            Labels for X, by default None\n",
    "\n",
    "        Returns\n",
    "        -------\n",
    "        TextCleaner\n",
    "            Returns its own instance\n",
    "        \"\"\"\n",
    "        return self\n",
    "\n",
    "    def transform(self, X, y=None):\n",
    "        \"\"\"\n",
    "        Cleans an array of text by removing punctuation, urls, \n",
    "        emails, contractions, and multiple whitespaces.\n",
    "\n",
    "        Parameters\n",
    "        ----------\n",
    "        X : numpy array or pandas DataFrame/Series\n",
    "            Array of string values\n",
    "\n",
    "        y : numpy array, optional\n",
    "            Labels for X, by default None\n",
    "\n",
    "        Returns\n",
    "        -------\n",
    "        numpy array or pandas DataFrame/Series\n",
    "            A copy of X with clean text\n",
    "\n",
    "        Raises\n",
    "        ------\n",
    "        TypeError\n",
    "            A TypeError is raised if X is not a numpy array or pandas DataFrame/Series\n",
    "        \"\"\"\n",
    "\n",
    "        # Use partial to define a clean_text function with specific arguments\n",
    "        clean_func = partial(nt.clean_text,\n",
    "                             urls=True,\n",
    "                             emails=True,\n",
    "                             contractions=True,\n",
    "                             stopwords=False,\n",
    "                             multiple_whitespaces=True)\n",
    "        \n",
    "        # Make a copy of X so that we do not modify the original matrix/array\n",
    "        X_copy = X.copy()\n",
    "\n",
    "        # Check if X is a DataFrame/Series or numpy array\n",
    "        if isinstance(X, pd.DataFrame) or isinstance(X, pd.Series):\n",
    "            \n",
    "            # Convert HTML character entities to unicode\n",
    "            X_unicode = X_copy.map(unescape)\n",
    "\n",
    "            # Clean the text with clean_func\n",
    "            # Note: I have discovered that it is better to call remove_punctuation\n",
    "            # separately instead of using it with the clean_text function\n",
    "            X_clean = X_unicode.map(clean_func).map(nt.remove_puncts)\n",
    "\n",
    "            return X_clean\n",
    "\n",
    "        elif isinstance(X, np.ndarray):\n",
    "            # If X is a numpy array then we have to vectorize \n",
    "            # some functions in order for them to work with arrays\n",
    "            vec_unescape = np.vectorize(unescape)\n",
    "            vec_clean = np.vectorize(clean_func)\n",
    "            vec_rm_puncts = np.vectorize(nt.remove_puncts)\n",
    "\n",
    "            X_unicode = vec_unescape(X_copy)\n",
    "            X_clean = vec_rm_puncts(vec_clean(X_unicode))\n",
    "\n",
    "            return X_clean\n",
    "\n",
    "        else:\n",
    "            # Raise TypeError if X is neither a numpy array or pandas DataFrame/Series\n",
    "            raise TypeError(\n",
    "                'X has to be a pandas DataFrame/Series or numpy array')"
   ]
  },
  {
   "cell_type": "code",
   "execution_count": 28,
   "id": "9e46c3f5-f5c3-497e-aa8b-740e40b6b251",
   "metadata": {},
   "outputs": [
    {
     "name": "stdout",
     "output_type": "stream",
     "text": [
      "@funnypicsdepot: this the i play soccer cheat on girls and wear khaki coloured cargos haircut yup\n",
      "@funnypicsdepot: this the i play soccer cheat on girls and wear khaki coloured cargos haircut yup\n",
      "ERROR: X has to be a pandas DataFrame/Series or numpy array\n"
     ]
    }
   ],
   "source": [
    "# Create an instance of TextCleaner\n",
    "text_cleaner = TextCleaner()\n",
    "\n",
    "print(text_cleaner.fit_transform(np.array([example_tweet]))[0])  # numpy array\n",
    "print(text_cleaner.fit_transform(pd.Series([example_tweet])).iloc[0])  # pandas Series\n",
    "\n",
    "try:\n",
    "    text_cleaner.fit_transform([example_tweet])  # raises error because X is a list\n",
    "except TypeError as e:\n",
    "    print('ERROR:', e)"
   ]
  },
  {
   "cell_type": "code",
   "execution_count": 29,
   "id": "06ae66e3-1da3-475b-a22b-c6dc0cd8d2e2",
   "metadata": {},
   "outputs": [
    {
     "name": "stdout",
     "output_type": "stream",
     "text": [
      "@funnypicsdepot: this the i play soccer cheat on girls and wear khaki coloured cargos haircut yup\n",
      "\n",
      "Tokens =  [':', 'this', 'the', 'i', 'play', 'soccer', 'cheat', 'on', 'girls', 'and', 'wear', 'khaki', 'coloured', 'cargos', 'haircut', 'yup']\n"
     ]
    }
   ],
   "source": [
    "# Get a cleaned version of a tweet\n",
    "cleaned_tweet = text_cleaner.fit_transform(pd.Series([example_tweet])).iloc[0]\n",
    "\n",
    "print(cleaned_tweet, end=\"\\n\\n\")\n",
    "\n",
    "# Tokenize the the cleaned tweet\n",
    "print('Tokens = ', tokenizer.tokenize(cleaned_tweet))"
   ]
  },
  {
   "cell_type": "markdown",
   "id": "5db054a6-fd2c-44aa-ae7a-e4b01dd3f3bf",
   "metadata": {},
   "source": [
    "It is a bit annoying that a colon is being treated as a token. In the grand scheme of things this isn't that important since we will not be training our model on tokens that occur very commonly."
   ]
  },
  {
   "cell_type": "markdown",
   "id": "8a7251fd-484c-437e-8b2e-baa3f5288520",
   "metadata": {},
   "source": [
    "To actually train our model on this cleaned up text data we still need to represent our data in a format that a machine learning algorithm can understand. We will use a bag of words model to represent our data for now."
   ]
  },
  {
   "cell_type": "markdown",
   "id": "e90dc21d-bb7c-4107-8a5c-3db478c7a5c7",
   "metadata": {},
   "source": [
    "#### Bag of Words\n",
    "\n",
    "We will be using the below toy dataset to explain bag of words."
   ]
  },
  {
   "cell_type": "code",
   "execution_count": 30,
   "id": "d798b8e8-5bcd-40da-92b1-61415dae2868",
   "metadata": {},
   "outputs": [
    {
     "data": {
      "text/html": [
       "<div>\n",
       "<style scoped>\n",
       "    .dataframe tbody tr th:only-of-type {\n",
       "        vertical-align: middle;\n",
       "    }\n",
       "\n",
       "    .dataframe tbody tr th {\n",
       "        vertical-align: top;\n",
       "    }\n",
       "\n",
       "    .dataframe thead th {\n",
       "        text-align: right;\n",
       "    }\n",
       "</style>\n",
       "<table border=\"1\" class=\"dataframe\">\n",
       "  <thead>\n",
       "    <tr style=\"text-align: right;\">\n",
       "      <th></th>\n",
       "      <th>text</th>\n",
       "      <th>loves_apples</th>\n",
       "    </tr>\n",
       "  </thead>\n",
       "  <tbody>\n",
       "    <tr>\n",
       "      <th>0</th>\n",
       "      <td>apples are the best they really are</td>\n",
       "      <td>True</td>\n",
       "    </tr>\n",
       "    <tr>\n",
       "      <th>1</th>\n",
       "      <td>i dont really like apples</td>\n",
       "      <td>False</td>\n",
       "    </tr>\n",
       "    <tr>\n",
       "      <th>2</th>\n",
       "      <td>what is wrong with you, apples are delicious</td>\n",
       "      <td>True</td>\n",
       "    </tr>\n",
       "    <tr>\n",
       "      <th>3</th>\n",
       "      <td>i ate an apple yesterday and i hated it</td>\n",
       "      <td>False</td>\n",
       "    </tr>\n",
       "  </tbody>\n",
       "</table>\n",
       "</div>"
      ],
      "text/plain": [
       "                                           text  loves_apples\n",
       "0           apples are the best they really are          True\n",
       "1                     i dont really like apples         False\n",
       "2  what is wrong with you, apples are delicious          True\n",
       "3       i ate an apple yesterday and i hated it         False"
      ]
     },
     "execution_count": 30,
     "metadata": {},
     "output_type": "execute_result"
    }
   ],
   "source": [
    "# Example sentiment analysis dataset involving apples\n",
    "apples = pd.DataFrame({\n",
    "    'text': [\n",
    "        'apples are the best they really are', 'i dont really like apples',\n",
    "        'what is wrong with you, apples are delicious',\n",
    "        'i ate an apple yesterday and i hated it'\n",
    "    ],\n",
    "    'loves_apples': [True, False, True, False],\n",
    "})\n",
    "\n",
    "apples.head()"
   ]
  },
  {
   "cell_type": "markdown",
   "id": "9920dacc-1172-4b81-9a26-239e3a1938b4",
   "metadata": {},
   "source": [
    "We will get an error if we try to train a model on this data. A machine learning model will not understand what to do with the data as they usually work with numbers."
   ]
  },
  {
   "cell_type": "code",
   "execution_count": 31,
   "id": "39e88330-bfb4-43ce-864d-4f059d3402df",
   "metadata": {},
   "outputs": [
    {
     "name": "stdout",
     "output_type": "stream",
     "text": [
      "ERROR: could not convert string to float: 'apples are the best they really are'\n"
     ]
    }
   ],
   "source": [
    "# Import a naive bayes classifier from scikit-learn\n",
    "from sklearn.naive_bayes import MultinomialNB\n",
    "\n",
    "# Create an instance of the classifier\n",
    "nb = MultinomialNB()\n",
    "\n",
    "# Define our features matrix and labels\n",
    "X, y = apples['text'], apples['loves_apples']\n",
    "\n",
    "try:\n",
    "    # Train our model on X and y\n",
    "    nb.fit(X, y)  # raises error!\n",
    "except ValueError as e:\n",
    "    print('ERROR:', e)"
   ]
  },
  {
   "cell_type": "markdown",
   "id": "ca280799-2d21-48c3-9f9a-8307c32d69d6",
   "metadata": {},
   "source": [
    "We will have to convert the text data into a matrix of shape `(num_documents, vocab_size)`. Each row represents a sentence/tweet/document and each column represents a word. The value of the `(x, y)` element of a bag of words represents how many times the word y occurred in document x."
   ]
  },
  {
   "cell_type": "code",
   "execution_count": 32,
   "id": "72695989-b378-4b07-8961-5f5d920a5002",
   "metadata": {},
   "outputs": [
    {
     "data": {
      "text/html": [
       "<div>\n",
       "<style scoped>\n",
       "    .dataframe tbody tr th:only-of-type {\n",
       "        vertical-align: middle;\n",
       "    }\n",
       "\n",
       "    .dataframe tbody tr th {\n",
       "        vertical-align: top;\n",
       "    }\n",
       "\n",
       "    .dataframe thead th {\n",
       "        text-align: right;\n",
       "    }\n",
       "</style>\n",
       "<table border=\"1\" class=\"dataframe\">\n",
       "  <thead>\n",
       "    <tr style=\"text-align: right;\">\n",
       "      <th></th>\n",
       "      <th>an</th>\n",
       "      <th>and</th>\n",
       "      <th>apple</th>\n",
       "      <th>apples</th>\n",
       "      <th>are</th>\n",
       "      <th>ate</th>\n",
       "      <th>best</th>\n",
       "      <th>delicious</th>\n",
       "      <th>dont</th>\n",
       "      <th>hated</th>\n",
       "      <th>...</th>\n",
       "      <th>it</th>\n",
       "      <th>like</th>\n",
       "      <th>really</th>\n",
       "      <th>the</th>\n",
       "      <th>they</th>\n",
       "      <th>what</th>\n",
       "      <th>with</th>\n",
       "      <th>wrong</th>\n",
       "      <th>yesterday</th>\n",
       "      <th>you</th>\n",
       "    </tr>\n",
       "  </thead>\n",
       "  <tbody>\n",
       "    <tr>\n",
       "      <th>0</th>\n",
       "      <td>0</td>\n",
       "      <td>0</td>\n",
       "      <td>0</td>\n",
       "      <td>1</td>\n",
       "      <td>2</td>\n",
       "      <td>0</td>\n",
       "      <td>1</td>\n",
       "      <td>0</td>\n",
       "      <td>0</td>\n",
       "      <td>0</td>\n",
       "      <td>...</td>\n",
       "      <td>0</td>\n",
       "      <td>0</td>\n",
       "      <td>1</td>\n",
       "      <td>1</td>\n",
       "      <td>1</td>\n",
       "      <td>0</td>\n",
       "      <td>0</td>\n",
       "      <td>0</td>\n",
       "      <td>0</td>\n",
       "      <td>0</td>\n",
       "    </tr>\n",
       "    <tr>\n",
       "      <th>1</th>\n",
       "      <td>0</td>\n",
       "      <td>0</td>\n",
       "      <td>0</td>\n",
       "      <td>1</td>\n",
       "      <td>0</td>\n",
       "      <td>0</td>\n",
       "      <td>0</td>\n",
       "      <td>0</td>\n",
       "      <td>1</td>\n",
       "      <td>0</td>\n",
       "      <td>...</td>\n",
       "      <td>0</td>\n",
       "      <td>1</td>\n",
       "      <td>1</td>\n",
       "      <td>0</td>\n",
       "      <td>0</td>\n",
       "      <td>0</td>\n",
       "      <td>0</td>\n",
       "      <td>0</td>\n",
       "      <td>0</td>\n",
       "      <td>0</td>\n",
       "    </tr>\n",
       "    <tr>\n",
       "      <th>2</th>\n",
       "      <td>0</td>\n",
       "      <td>0</td>\n",
       "      <td>0</td>\n",
       "      <td>1</td>\n",
       "      <td>1</td>\n",
       "      <td>0</td>\n",
       "      <td>0</td>\n",
       "      <td>1</td>\n",
       "      <td>0</td>\n",
       "      <td>0</td>\n",
       "      <td>...</td>\n",
       "      <td>0</td>\n",
       "      <td>0</td>\n",
       "      <td>0</td>\n",
       "      <td>0</td>\n",
       "      <td>0</td>\n",
       "      <td>1</td>\n",
       "      <td>1</td>\n",
       "      <td>1</td>\n",
       "      <td>0</td>\n",
       "      <td>1</td>\n",
       "    </tr>\n",
       "    <tr>\n",
       "      <th>3</th>\n",
       "      <td>1</td>\n",
       "      <td>1</td>\n",
       "      <td>1</td>\n",
       "      <td>0</td>\n",
       "      <td>0</td>\n",
       "      <td>1</td>\n",
       "      <td>0</td>\n",
       "      <td>0</td>\n",
       "      <td>0</td>\n",
       "      <td>1</td>\n",
       "      <td>...</td>\n",
       "      <td>1</td>\n",
       "      <td>0</td>\n",
       "      <td>0</td>\n",
       "      <td>0</td>\n",
       "      <td>0</td>\n",
       "      <td>0</td>\n",
       "      <td>0</td>\n",
       "      <td>0</td>\n",
       "      <td>1</td>\n",
       "      <td>0</td>\n",
       "    </tr>\n",
       "  </tbody>\n",
       "</table>\n",
       "<p>4 rows × 21 columns</p>\n",
       "</div>"
      ],
      "text/plain": [
       "   an  and  apple  apples  are  ate  best  delicious  dont  hated  ...  it  \\\n",
       "0   0    0      0       1    2    0     1          0     0      0  ...   0   \n",
       "1   0    0      0       1    0    0     0          0     1      0  ...   0   \n",
       "2   0    0      0       1    1    0     0          1     0      0  ...   0   \n",
       "3   1    1      1       0    0    1     0          0     0      1  ...   1   \n",
       "\n",
       "   like  really  the  they  what  with  wrong  yesterday  you  \n",
       "0     0       1    1     1     0     0      0          0    0  \n",
       "1     1       1    0     0     0     0      0          0    0  \n",
       "2     0       0    0     0     1     1      1          0    1  \n",
       "3     0       0    0     0     0     0      0          1    0  \n",
       "\n",
       "[4 rows x 21 columns]"
      ]
     },
     "execution_count": 32,
     "metadata": {},
     "output_type": "execute_result"
    }
   ],
   "source": [
    "# This sklearn function can create a bag of words for us\n",
    "vectorizer = CountVectorizer(min_df=0)\n",
    "\n",
    "# Produce the bag of words\n",
    "X_bow = vectorizer.fit_transform(X)\n",
    "\n",
    "# Get the column names\n",
    "vocabulary = vectorizer.get_feature_names_out()\n",
    "\n",
    "# CountVectorizer returns a sparse matrix\n",
    "# we turn it into a dense one to use it with pandas\n",
    "pd.DataFrame(X_bow.todense(), columns=vocabulary)"
   ]
  },
  {
   "cell_type": "markdown",
   "id": "d4a69b0e-c037-4cbe-8186-3a11cb9938ee",
   "metadata": {},
   "source": [
    "We usually get better results by using a TF-IDF (Term Frequency - Inverse Document Frequency) vectorizer because it takes into account the relative rarity of a word within the entire dataset. In our apples dataset, the word 'apples' is included in every sentence so its inverse document frequency (rarity) will be low."
   ]
  },
  {
   "cell_type": "code",
   "execution_count": 33,
   "id": "1a951719-9299-49d9-a936-d186d6bf02a3",
   "metadata": {},
   "outputs": [
    {
     "data": {
      "text/html": [
       "<div>\n",
       "<style scoped>\n",
       "    .dataframe tbody tr th:only-of-type {\n",
       "        vertical-align: middle;\n",
       "    }\n",
       "\n",
       "    .dataframe tbody tr th {\n",
       "        vertical-align: top;\n",
       "    }\n",
       "\n",
       "    .dataframe thead th {\n",
       "        text-align: right;\n",
       "    }\n",
       "</style>\n",
       "<table border=\"1\" class=\"dataframe\">\n",
       "  <thead>\n",
       "    <tr style=\"text-align: right;\">\n",
       "      <th></th>\n",
       "      <th>an</th>\n",
       "      <th>and</th>\n",
       "      <th>apple</th>\n",
       "      <th>apples</th>\n",
       "      <th>are</th>\n",
       "      <th>ate</th>\n",
       "      <th>best</th>\n",
       "      <th>delicious</th>\n",
       "      <th>dont</th>\n",
       "      <th>hated</th>\n",
       "      <th>...</th>\n",
       "      <th>it</th>\n",
       "      <th>like</th>\n",
       "      <th>really</th>\n",
       "      <th>the</th>\n",
       "      <th>they</th>\n",
       "      <th>what</th>\n",
       "      <th>with</th>\n",
       "      <th>wrong</th>\n",
       "      <th>yesterday</th>\n",
       "      <th>you</th>\n",
       "    </tr>\n",
       "  </thead>\n",
       "  <tbody>\n",
       "    <tr>\n",
       "      <th>0</th>\n",
       "      <td>0.000000</td>\n",
       "      <td>0.000000</td>\n",
       "      <td>0.000000</td>\n",
       "      <td>0.250061</td>\n",
       "      <td>0.617751</td>\n",
       "      <td>0.000000</td>\n",
       "      <td>0.391769</td>\n",
       "      <td>0.000000</td>\n",
       "      <td>0.00000</td>\n",
       "      <td>0.000000</td>\n",
       "      <td>...</td>\n",
       "      <td>0.000000</td>\n",
       "      <td>0.00000</td>\n",
       "      <td>0.308875</td>\n",
       "      <td>0.391769</td>\n",
       "      <td>0.391769</td>\n",
       "      <td>0.000000</td>\n",
       "      <td>0.000000</td>\n",
       "      <td>0.000000</td>\n",
       "      <td>0.000000</td>\n",
       "      <td>0.000000</td>\n",
       "    </tr>\n",
       "    <tr>\n",
       "      <th>1</th>\n",
       "      <td>0.000000</td>\n",
       "      <td>0.000000</td>\n",
       "      <td>0.000000</td>\n",
       "      <td>0.366747</td>\n",
       "      <td>0.000000</td>\n",
       "      <td>0.000000</td>\n",
       "      <td>0.000000</td>\n",
       "      <td>0.000000</td>\n",
       "      <td>0.57458</td>\n",
       "      <td>0.000000</td>\n",
       "      <td>...</td>\n",
       "      <td>0.000000</td>\n",
       "      <td>0.57458</td>\n",
       "      <td>0.453005</td>\n",
       "      <td>0.000000</td>\n",
       "      <td>0.000000</td>\n",
       "      <td>0.000000</td>\n",
       "      <td>0.000000</td>\n",
       "      <td>0.000000</td>\n",
       "      <td>0.000000</td>\n",
       "      <td>0.000000</td>\n",
       "    </tr>\n",
       "    <tr>\n",
       "      <th>2</th>\n",
       "      <td>0.000000</td>\n",
       "      <td>0.000000</td>\n",
       "      <td>0.000000</td>\n",
       "      <td>0.240752</td>\n",
       "      <td>0.297376</td>\n",
       "      <td>0.000000</td>\n",
       "      <td>0.000000</td>\n",
       "      <td>0.377184</td>\n",
       "      <td>0.00000</td>\n",
       "      <td>0.000000</td>\n",
       "      <td>...</td>\n",
       "      <td>0.000000</td>\n",
       "      <td>0.00000</td>\n",
       "      <td>0.000000</td>\n",
       "      <td>0.000000</td>\n",
       "      <td>0.000000</td>\n",
       "      <td>0.377184</td>\n",
       "      <td>0.377184</td>\n",
       "      <td>0.377184</td>\n",
       "      <td>0.000000</td>\n",
       "      <td>0.377184</td>\n",
       "    </tr>\n",
       "    <tr>\n",
       "      <th>3</th>\n",
       "      <td>0.377964</td>\n",
       "      <td>0.377964</td>\n",
       "      <td>0.377964</td>\n",
       "      <td>0.000000</td>\n",
       "      <td>0.000000</td>\n",
       "      <td>0.377964</td>\n",
       "      <td>0.000000</td>\n",
       "      <td>0.000000</td>\n",
       "      <td>0.00000</td>\n",
       "      <td>0.377964</td>\n",
       "      <td>...</td>\n",
       "      <td>0.377964</td>\n",
       "      <td>0.00000</td>\n",
       "      <td>0.000000</td>\n",
       "      <td>0.000000</td>\n",
       "      <td>0.000000</td>\n",
       "      <td>0.000000</td>\n",
       "      <td>0.000000</td>\n",
       "      <td>0.000000</td>\n",
       "      <td>0.377964</td>\n",
       "      <td>0.000000</td>\n",
       "    </tr>\n",
       "  </tbody>\n",
       "</table>\n",
       "<p>4 rows × 21 columns</p>\n",
       "</div>"
      ],
      "text/plain": [
       "         an       and     apple    apples       are       ate      best  \\\n",
       "0  0.000000  0.000000  0.000000  0.250061  0.617751  0.000000  0.391769   \n",
       "1  0.000000  0.000000  0.000000  0.366747  0.000000  0.000000  0.000000   \n",
       "2  0.000000  0.000000  0.000000  0.240752  0.297376  0.000000  0.000000   \n",
       "3  0.377964  0.377964  0.377964  0.000000  0.000000  0.377964  0.000000   \n",
       "\n",
       "   delicious     dont     hated  ...        it     like    really       the  \\\n",
       "0   0.000000  0.00000  0.000000  ...  0.000000  0.00000  0.308875  0.391769   \n",
       "1   0.000000  0.57458  0.000000  ...  0.000000  0.57458  0.453005  0.000000   \n",
       "2   0.377184  0.00000  0.000000  ...  0.000000  0.00000  0.000000  0.000000   \n",
       "3   0.000000  0.00000  0.377964  ...  0.377964  0.00000  0.000000  0.000000   \n",
       "\n",
       "       they      what      with     wrong  yesterday       you  \n",
       "0  0.391769  0.000000  0.000000  0.000000   0.000000  0.000000  \n",
       "1  0.000000  0.000000  0.000000  0.000000   0.000000  0.000000  \n",
       "2  0.000000  0.377184  0.377184  0.377184   0.000000  0.377184  \n",
       "3  0.000000  0.000000  0.000000  0.000000   0.377964  0.000000  \n",
       "\n",
       "[4 rows x 21 columns]"
      ]
     },
     "execution_count": 33,
     "metadata": {},
     "output_type": "execute_result"
    }
   ],
   "source": [
    "tfidf_vectorizer = TfidfVectorizer(min_df=0)\n",
    "\n",
    "# Produce the TF-IDF bag of words representation\n",
    "X_tfidf = tfidf_vectorizer.fit_transform(X)\n",
    "\n",
    "# Get the column names\n",
    "vocabulary = tfidf_vectorizer.get_feature_names_out()\n",
    "\n",
    "pd.DataFrame(X_tfidf.todense(), columns=vocabulary)"
   ]
  },
  {
   "cell_type": "markdown",
   "id": "ae774269-daee-4175-8815-207c5990e2c8",
   "metadata": {},
   "source": [
    "We can now train our classifier on our apples dataset"
   ]
  },
  {
   "cell_type": "code",
   "execution_count": 34,
   "id": "e932d2b4-3cdc-460f-97a2-b92c0e256512",
   "metadata": {},
   "outputs": [
    {
     "data": {
      "text/plain": [
       "array([ True])"
      ]
     },
     "execution_count": 34,
     "metadata": {},
     "output_type": "execute_result"
    }
   ],
   "source": [
    "nb.fit(X_tfidf, y)  # does not raise an error\n",
    "\n",
    "# Make a prediction\n",
    "nb.predict(tfidf_vectorizer.transform(np.array(['apples are not good'])))"
   ]
  },
  {
   "cell_type": "markdown",
   "id": "7c60afef-4abc-4f62-b80e-dd6cea148fca",
   "metadata": {},
   "source": [
    "We were able to train our model on this dataset and make a (wrong) prediction. While this is of course a toy problem the same techniques will be used on our hate speech dataset.\n",
    "\n",
    "The above examples don't take into account the ordering or the combination of certain words, so there is a loss of information. One method of solving this is to use n-grams, where n is a positive integer. An example of a 2-gram of the sentence \"I love apples a lot\" is:\n",
    "[\"I love\", \"love apples\", \"apples a\", \"a lot\"]\n",
    "\n",
    "You can add n-grams to your bag of words representation very easily just by using the `ngram_range` argument of the `TfidfVectorizer` or the `CountVectorizer`. Doing this usually gives us better results at the cost of ballooning the size of our features matrix."
   ]
  },
  {
   "cell_type": "code",
   "execution_count": 35,
   "id": "d4cce611-2cd6-466d-ade1-edbc3040b8a0",
   "metadata": {},
   "outputs": [
    {
     "data": {
      "text/html": [
       "<div>\n",
       "<style scoped>\n",
       "    .dataframe tbody tr th:only-of-type {\n",
       "        vertical-align: middle;\n",
       "    }\n",
       "\n",
       "    .dataframe tbody tr th {\n",
       "        vertical-align: top;\n",
       "    }\n",
       "\n",
       "    .dataframe thead th {\n",
       "        text-align: right;\n",
       "    }\n",
       "</style>\n",
       "<table border=\"1\" class=\"dataframe\">\n",
       "  <thead>\n",
       "    <tr style=\"text-align: right;\">\n",
       "      <th></th>\n",
       "      <th>an</th>\n",
       "      <th>an apple</th>\n",
       "      <th>an apple yesterday</th>\n",
       "      <th>and</th>\n",
       "      <th>and hated</th>\n",
       "      <th>and hated it</th>\n",
       "      <th>apple</th>\n",
       "      <th>apple yesterday</th>\n",
       "      <th>apple yesterday and</th>\n",
       "      <th>apples</th>\n",
       "      <th>...</th>\n",
       "      <th>with you apples</th>\n",
       "      <th>wrong</th>\n",
       "      <th>wrong with</th>\n",
       "      <th>wrong with you</th>\n",
       "      <th>yesterday</th>\n",
       "      <th>yesterday and</th>\n",
       "      <th>yesterday and hated</th>\n",
       "      <th>you</th>\n",
       "      <th>you apples</th>\n",
       "      <th>you apples are</th>\n",
       "    </tr>\n",
       "  </thead>\n",
       "  <tbody>\n",
       "    <tr>\n",
       "      <th>0</th>\n",
       "      <td>0.000000</td>\n",
       "      <td>0.000000</td>\n",
       "      <td>0.000000</td>\n",
       "      <td>0.000000</td>\n",
       "      <td>0.000000</td>\n",
       "      <td>0.000000</td>\n",
       "      <td>0.000000</td>\n",
       "      <td>0.000000</td>\n",
       "      <td>0.000000</td>\n",
       "      <td>0.154187</td>\n",
       "      <td>...</td>\n",
       "      <td>0.000000</td>\n",
       "      <td>0.000000</td>\n",
       "      <td>0.000000</td>\n",
       "      <td>0.000000</td>\n",
       "      <td>0.000000</td>\n",
       "      <td>0.000000</td>\n",
       "      <td>0.000000</td>\n",
       "      <td>0.000000</td>\n",
       "      <td>0.000000</td>\n",
       "      <td>0.000000</td>\n",
       "    </tr>\n",
       "    <tr>\n",
       "      <th>1</th>\n",
       "      <td>0.000000</td>\n",
       "      <td>0.000000</td>\n",
       "      <td>0.000000</td>\n",
       "      <td>0.000000</td>\n",
       "      <td>0.000000</td>\n",
       "      <td>0.000000</td>\n",
       "      <td>0.000000</td>\n",
       "      <td>0.000000</td>\n",
       "      <td>0.000000</td>\n",
       "      <td>0.225261</td>\n",
       "      <td>...</td>\n",
       "      <td>0.000000</td>\n",
       "      <td>0.000000</td>\n",
       "      <td>0.000000</td>\n",
       "      <td>0.000000</td>\n",
       "      <td>0.000000</td>\n",
       "      <td>0.000000</td>\n",
       "      <td>0.000000</td>\n",
       "      <td>0.000000</td>\n",
       "      <td>0.000000</td>\n",
       "      <td>0.000000</td>\n",
       "    </tr>\n",
       "    <tr>\n",
       "      <th>2</th>\n",
       "      <td>0.000000</td>\n",
       "      <td>0.000000</td>\n",
       "      <td>0.000000</td>\n",
       "      <td>0.000000</td>\n",
       "      <td>0.000000</td>\n",
       "      <td>0.000000</td>\n",
       "      <td>0.000000</td>\n",
       "      <td>0.000000</td>\n",
       "      <td>0.000000</td>\n",
       "      <td>0.143989</td>\n",
       "      <td>...</td>\n",
       "      <td>0.225586</td>\n",
       "      <td>0.225586</td>\n",
       "      <td>0.225586</td>\n",
       "      <td>0.225586</td>\n",
       "      <td>0.000000</td>\n",
       "      <td>0.000000</td>\n",
       "      <td>0.000000</td>\n",
       "      <td>0.225586</td>\n",
       "      <td>0.225586</td>\n",
       "      <td>0.225586</td>\n",
       "    </tr>\n",
       "    <tr>\n",
       "      <th>3</th>\n",
       "      <td>0.235702</td>\n",
       "      <td>0.235702</td>\n",
       "      <td>0.235702</td>\n",
       "      <td>0.235702</td>\n",
       "      <td>0.235702</td>\n",
       "      <td>0.235702</td>\n",
       "      <td>0.235702</td>\n",
       "      <td>0.235702</td>\n",
       "      <td>0.235702</td>\n",
       "      <td>0.000000</td>\n",
       "      <td>...</td>\n",
       "      <td>0.000000</td>\n",
       "      <td>0.000000</td>\n",
       "      <td>0.000000</td>\n",
       "      <td>0.000000</td>\n",
       "      <td>0.235702</td>\n",
       "      <td>0.235702</td>\n",
       "      <td>0.235702</td>\n",
       "      <td>0.000000</td>\n",
       "      <td>0.000000</td>\n",
       "      <td>0.000000</td>\n",
       "    </tr>\n",
       "  </tbody>\n",
       "</table>\n",
       "<p>4 rows × 60 columns</p>\n",
       "</div>"
      ],
      "text/plain": [
       "         an  an apple  an apple yesterday       and  and hated  and hated it  \\\n",
       "0  0.000000  0.000000            0.000000  0.000000   0.000000      0.000000   \n",
       "1  0.000000  0.000000            0.000000  0.000000   0.000000      0.000000   \n",
       "2  0.000000  0.000000            0.000000  0.000000   0.000000      0.000000   \n",
       "3  0.235702  0.235702            0.235702  0.235702   0.235702      0.235702   \n",
       "\n",
       "      apple  apple yesterday  apple yesterday and    apples  ...  \\\n",
       "0  0.000000         0.000000             0.000000  0.154187  ...   \n",
       "1  0.000000         0.000000             0.000000  0.225261  ...   \n",
       "2  0.000000         0.000000             0.000000  0.143989  ...   \n",
       "3  0.235702         0.235702             0.235702  0.000000  ...   \n",
       "\n",
       "   with you apples     wrong  wrong with  wrong with you  yesterday  \\\n",
       "0         0.000000  0.000000    0.000000        0.000000   0.000000   \n",
       "1         0.000000  0.000000    0.000000        0.000000   0.000000   \n",
       "2         0.225586  0.225586    0.225586        0.225586   0.000000   \n",
       "3         0.000000  0.000000    0.000000        0.000000   0.235702   \n",
       "\n",
       "   yesterday and  yesterday and hated       you  you apples  you apples are  \n",
       "0       0.000000             0.000000  0.000000    0.000000        0.000000  \n",
       "1       0.000000             0.000000  0.000000    0.000000        0.000000  \n",
       "2       0.000000             0.000000  0.225586    0.225586        0.225586  \n",
       "3       0.235702             0.235702  0.000000    0.000000        0.000000  \n",
       "\n",
       "[4 rows x 60 columns]"
      ]
     },
     "execution_count": 35,
     "metadata": {},
     "output_type": "execute_result"
    }
   ],
   "source": [
    "tfidf_vectorizer = TfidfVectorizer(min_df=0, ngram_range=(1, 3))\n",
    "\n",
    "X_tfidf = tfidf_vectorizer.fit_transform(X)\n",
    "vocabulary = tfidf_vectorizer.get_feature_names_out()\n",
    "\n",
    "pd.DataFrame(X_tfidf.todense(), columns=vocabulary)"
   ]
  },
  {
   "cell_type": "code",
   "execution_count": 36,
   "id": "2b166fb4-d97f-45fc-875b-f86bda7838ca",
   "metadata": {},
   "outputs": [
    {
     "data": {
      "text/plain": [
       "array([ True])"
      ]
     },
     "execution_count": 36,
     "metadata": {},
     "output_type": "execute_result"
    }
   ],
   "source": [
    "nb.fit(X_tfidf, y)\n",
    "\n",
    "nb.predict(tfidf_vectorizer.transform(np.array(['apples are not good'])))"
   ]
  },
  {
   "cell_type": "markdown",
   "id": "d290bab6-15f1-4ea6-97de-4b688d493de7",
   "metadata": {},
   "source": [
    "We still get a wrong prediction but obviously our model did not have the opportunity to learn much with this limited dataset."
   ]
  },
  {
   "cell_type": "markdown",
   "id": "379f922e-46ff-4483-8ba9-fd5475e3f8e1",
   "metadata": {},
   "source": [
    "#### Stemming"
   ]
  },
  {
   "cell_type": "markdown",
   "id": "e05944e1-1a10-4a63-a5a7-265eb7f71c65",
   "metadata": {},
   "source": [
    "One additional thing that we can do to improve our bag of words representation is to use stemming. You may have noticed that in the above apples dataset, the word `apple` and `apples` are treated as two different terms, yet they refer to the same concept. We can remedy this issue by stemming the tokens in this dataset."
   ]
  },
  {
   "cell_type": "code",
   "execution_count": 37,
   "id": "dceda951-0d17-4cbf-a42b-b7a38d2dfa1b",
   "metadata": {},
   "outputs": [
    {
     "name": "stdout",
     "output_type": "stream",
     "text": [
      "appl\n",
      "appl\n"
     ]
    }
   ],
   "source": [
    "from nltk.stem import PorterStemmer\n",
    "\n",
    "# Use a stemmer that comes with nltk\n",
    "stemmer = PorterStemmer()\n",
    "\n",
    "# Both apples and apple have the stem appl\n",
    "print(stemmer.stem('apples'))\n",
    "print(stemmer.stem('apple'))"
   ]
  },
  {
   "cell_type": "code",
   "execution_count": 38,
   "id": "88922793-2c42-4ec7-aa84-8a9bc39cecbc",
   "metadata": {},
   "outputs": [],
   "source": [
    "def apple_tokenize(document):\n",
    "    \"\"\"\n",
    "    Basic tokenizer for the apples dataset\n",
    "    that also stems each token.\n",
    "\n",
    "    Parameters\n",
    "    ----------\n",
    "    document : str\n",
    "        A single string value\n",
    "\n",
    "    Returns\n",
    "    -------\n",
    "    list\n",
    "        A list of stemmed tokens\n",
    "    \"\"\"\n",
    "    tokens = document.split(' ')\n",
    "    tokens_stemmed = [stemmer.stem(token) for token in tokens]\n",
    "    return tokens_stemmed"
   ]
  },
  {
   "cell_type": "code",
   "execution_count": 39,
   "id": "3de5de8c-033e-475b-9c8c-f4cb74e5c38b",
   "metadata": {},
   "outputs": [
    {
     "data": {
      "text/html": [
       "<div>\n",
       "<style scoped>\n",
       "    .dataframe tbody tr th:only-of-type {\n",
       "        vertical-align: middle;\n",
       "    }\n",
       "\n",
       "    .dataframe tbody tr th {\n",
       "        vertical-align: top;\n",
       "    }\n",
       "\n",
       "    .dataframe thead th {\n",
       "        text-align: right;\n",
       "    }\n",
       "</style>\n",
       "<table border=\"1\" class=\"dataframe\">\n",
       "  <thead>\n",
       "    <tr style=\"text-align: right;\">\n",
       "      <th></th>\n",
       "      <th>an</th>\n",
       "      <th>an appl</th>\n",
       "      <th>an appl yesterday</th>\n",
       "      <th>and</th>\n",
       "      <th>and i</th>\n",
       "      <th>and i hate</th>\n",
       "      <th>appl</th>\n",
       "      <th>appl are</th>\n",
       "      <th>appl are delici</th>\n",
       "      <th>appl are the</th>\n",
       "      <th>...</th>\n",
       "      <th>with you, appl</th>\n",
       "      <th>wrong</th>\n",
       "      <th>wrong with</th>\n",
       "      <th>wrong with you,</th>\n",
       "      <th>yesterday</th>\n",
       "      <th>yesterday and</th>\n",
       "      <th>yesterday and i</th>\n",
       "      <th>you,</th>\n",
       "      <th>you, appl</th>\n",
       "      <th>you, appl are</th>\n",
       "    </tr>\n",
       "  </thead>\n",
       "  <tbody>\n",
       "    <tr>\n",
       "      <th>0</th>\n",
       "      <td>0.000000</td>\n",
       "      <td>0.000000</td>\n",
       "      <td>0.000000</td>\n",
       "      <td>0.000000</td>\n",
       "      <td>0.000000</td>\n",
       "      <td>0.000000</td>\n",
       "      <td>0.126558</td>\n",
       "      <td>0.191207</td>\n",
       "      <td>0.000000</td>\n",
       "      <td>0.242522</td>\n",
       "      <td>...</td>\n",
       "      <td>0.000000</td>\n",
       "      <td>0.000000</td>\n",
       "      <td>0.000000</td>\n",
       "      <td>0.000000</td>\n",
       "      <td>0.000000</td>\n",
       "      <td>0.000000</td>\n",
       "      <td>0.000000</td>\n",
       "      <td>0.000000</td>\n",
       "      <td>0.000000</td>\n",
       "      <td>0.000000</td>\n",
       "    </tr>\n",
       "    <tr>\n",
       "      <th>1</th>\n",
       "      <td>0.000000</td>\n",
       "      <td>0.000000</td>\n",
       "      <td>0.000000</td>\n",
       "      <td>0.000000</td>\n",
       "      <td>0.000000</td>\n",
       "      <td>0.000000</td>\n",
       "      <td>0.160925</td>\n",
       "      <td>0.000000</td>\n",
       "      <td>0.000000</td>\n",
       "      <td>0.000000</td>\n",
       "      <td>...</td>\n",
       "      <td>0.000000</td>\n",
       "      <td>0.000000</td>\n",
       "      <td>0.000000</td>\n",
       "      <td>0.000000</td>\n",
       "      <td>0.000000</td>\n",
       "      <td>0.000000</td>\n",
       "      <td>0.000000</td>\n",
       "      <td>0.000000</td>\n",
       "      <td>0.000000</td>\n",
       "      <td>0.000000</td>\n",
       "    </tr>\n",
       "    <tr>\n",
       "      <th>2</th>\n",
       "      <td>0.000000</td>\n",
       "      <td>0.000000</td>\n",
       "      <td>0.000000</td>\n",
       "      <td>0.000000</td>\n",
       "      <td>0.000000</td>\n",
       "      <td>0.000000</td>\n",
       "      <td>0.118127</td>\n",
       "      <td>0.178469</td>\n",
       "      <td>0.226365</td>\n",
       "      <td>0.000000</td>\n",
       "      <td>...</td>\n",
       "      <td>0.226365</td>\n",
       "      <td>0.226365</td>\n",
       "      <td>0.226365</td>\n",
       "      <td>0.226365</td>\n",
       "      <td>0.000000</td>\n",
       "      <td>0.000000</td>\n",
       "      <td>0.000000</td>\n",
       "      <td>0.226365</td>\n",
       "      <td>0.226365</td>\n",
       "      <td>0.226365</td>\n",
       "    </tr>\n",
       "    <tr>\n",
       "      <th>3</th>\n",
       "      <td>0.205158</td>\n",
       "      <td>0.205158</td>\n",
       "      <td>0.205158</td>\n",
       "      <td>0.205158</td>\n",
       "      <td>0.205158</td>\n",
       "      <td>0.205158</td>\n",
       "      <td>0.107060</td>\n",
       "      <td>0.000000</td>\n",
       "      <td>0.000000</td>\n",
       "      <td>0.000000</td>\n",
       "      <td>...</td>\n",
       "      <td>0.000000</td>\n",
       "      <td>0.000000</td>\n",
       "      <td>0.000000</td>\n",
       "      <td>0.000000</td>\n",
       "      <td>0.205158</td>\n",
       "      <td>0.205158</td>\n",
       "      <td>0.205158</td>\n",
       "      <td>0.000000</td>\n",
       "      <td>0.000000</td>\n",
       "      <td>0.000000</td>\n",
       "    </tr>\n",
       "  </tbody>\n",
       "</table>\n",
       "<p>4 rows × 66 columns</p>\n",
       "</div>"
      ],
      "text/plain": [
       "         an   an appl  an appl yesterday       and     and i  and i hate  \\\n",
       "0  0.000000  0.000000           0.000000  0.000000  0.000000    0.000000   \n",
       "1  0.000000  0.000000           0.000000  0.000000  0.000000    0.000000   \n",
       "2  0.000000  0.000000           0.000000  0.000000  0.000000    0.000000   \n",
       "3  0.205158  0.205158           0.205158  0.205158  0.205158    0.205158   \n",
       "\n",
       "       appl  appl are  appl are delici  appl are the  ...  with you, appl  \\\n",
       "0  0.126558  0.191207         0.000000      0.242522  ...        0.000000   \n",
       "1  0.160925  0.000000         0.000000      0.000000  ...        0.000000   \n",
       "2  0.118127  0.178469         0.226365      0.000000  ...        0.226365   \n",
       "3  0.107060  0.000000         0.000000      0.000000  ...        0.000000   \n",
       "\n",
       "      wrong  wrong with  wrong with you,  yesterday  yesterday and  \\\n",
       "0  0.000000    0.000000         0.000000   0.000000       0.000000   \n",
       "1  0.000000    0.000000         0.000000   0.000000       0.000000   \n",
       "2  0.226365    0.226365         0.226365   0.000000       0.000000   \n",
       "3  0.000000    0.000000         0.000000   0.205158       0.205158   \n",
       "\n",
       "   yesterday and i      you,  you, appl  you, appl are  \n",
       "0         0.000000  0.000000   0.000000       0.000000  \n",
       "1         0.000000  0.000000   0.000000       0.000000  \n",
       "2         0.000000  0.226365   0.226365       0.226365  \n",
       "3         0.205158  0.000000   0.000000       0.000000  \n",
       "\n",
       "[4 rows x 66 columns]"
      ]
     },
     "execution_count": 39,
     "metadata": {},
     "output_type": "execute_result"
    }
   ],
   "source": [
    "# Define a tfidf vectorizer with a custom tokenizer\n",
    "tfidf_vectorizer = TfidfVectorizer(min_df=0,\n",
    "                                   ngram_range=(1, 3),\n",
    "                                   tokenizer=apple_tokenize)\n",
    "\n",
    "X_tfidf = tfidf_vectorizer.fit_transform(X)\n",
    "vocabulary = tfidf_vectorizer.get_feature_names_out()\n",
    "\n",
    "pd.DataFrame(X_tfidf.todense(), columns=vocabulary)"
   ]
  },
  {
   "cell_type": "code",
   "execution_count": 40,
   "id": "b8bb8d18-08dc-4bca-90b8-5ac3e4248e9c",
   "metadata": {},
   "outputs": [
    {
     "data": {
      "text/plain": [
       "array([ True])"
      ]
     },
     "execution_count": 40,
     "metadata": {},
     "output_type": "execute_result"
    }
   ],
   "source": [
    "nb.fit(X_tfidf, y)\n",
    "\n",
    "nb.predict(tfidf_vectorizer.transform(np.array(['apples are not good'])))"
   ]
  },
  {
   "cell_type": "markdown",
   "id": "320f14a9-83a5-443c-b92a-f34a388a9fc2",
   "metadata": {},
   "source": [
    "#### Sentiment Analysis"
   ]
  },
  {
   "cell_type": "markdown",
   "id": "e25754c9-8fe9-4b90-8a4c-02be4c10a600",
   "metadata": {},
   "source": [
    "One thing we will do to improve our machine learning model is to add sentiment analysis scores to the tweets. This is so our model learns more about each tweet other than the words that it contains. We will use the VADER library that comes with `nltk` to produce the sentiment analysis scores.\n",
    "\n",
    "The below code block shows the VADER library being used on the apples dataset."
   ]
  },
  {
   "cell_type": "code",
   "execution_count": 41,
   "id": "5bef00cd-4802-4d25-95e7-155dff99e363",
   "metadata": {},
   "outputs": [
    {
     "data": {
      "text/html": [
       "<div>\n",
       "<style scoped>\n",
       "    .dataframe tbody tr th:only-of-type {\n",
       "        vertical-align: middle;\n",
       "    }\n",
       "\n",
       "    .dataframe tbody tr th {\n",
       "        vertical-align: top;\n",
       "    }\n",
       "\n",
       "    .dataframe thead th {\n",
       "        text-align: right;\n",
       "    }\n",
       "</style>\n",
       "<table border=\"1\" class=\"dataframe\">\n",
       "  <thead>\n",
       "    <tr style=\"text-align: right;\">\n",
       "      <th></th>\n",
       "      <th>text</th>\n",
       "      <th>neg</th>\n",
       "      <th>neu</th>\n",
       "      <th>pos</th>\n",
       "      <th>compound</th>\n",
       "    </tr>\n",
       "  </thead>\n",
       "  <tbody>\n",
       "    <tr>\n",
       "      <th>0</th>\n",
       "      <td>apples are the best they really are</td>\n",
       "      <td>0.000</td>\n",
       "      <td>0.588</td>\n",
       "      <td>0.412</td>\n",
       "      <td>0.6369</td>\n",
       "    </tr>\n",
       "    <tr>\n",
       "      <th>1</th>\n",
       "      <td>i dont really like apples</td>\n",
       "      <td>0.437</td>\n",
       "      <td>0.563</td>\n",
       "      <td>0.000</td>\n",
       "      <td>-0.3241</td>\n",
       "    </tr>\n",
       "    <tr>\n",
       "      <th>2</th>\n",
       "      <td>what is wrong with you, apples are delicious</td>\n",
       "      <td>0.242</td>\n",
       "      <td>0.469</td>\n",
       "      <td>0.289</td>\n",
       "      <td>0.1531</td>\n",
       "    </tr>\n",
       "    <tr>\n",
       "      <th>3</th>\n",
       "      <td>i ate an apple yesterday and i hated it</td>\n",
       "      <td>0.412</td>\n",
       "      <td>0.588</td>\n",
       "      <td>0.000</td>\n",
       "      <td>-0.6369</td>\n",
       "    </tr>\n",
       "  </tbody>\n",
       "</table>\n",
       "</div>"
      ],
      "text/plain": [
       "                                           text    neg    neu    pos  compound\n",
       "0           apples are the best they really are  0.000  0.588  0.412    0.6369\n",
       "1                     i dont really like apples  0.437  0.563  0.000   -0.3241\n",
       "2  what is wrong with you, apples are delicious  0.242  0.469  0.289    0.1531\n",
       "3       i ate an apple yesterday and i hated it  0.412  0.588  0.000   -0.6369"
      ]
     },
     "execution_count": 41,
     "metadata": {},
     "output_type": "execute_result"
    }
   ],
   "source": [
    "from nltk.sentiment.vader import SentimentIntensityAnalyzer\n",
    "\n",
    "# Initialize the sentiment analyzer\n",
    "sentiment_analyzer = SentimentIntensityAnalyzer()\n",
    "\n",
    "\n",
    "def get_sentiment_df(text_column):\n",
    "    \"\"\"\n",
    "    Generates a DataFrame of sentiment analysis scores\n",
    "    using the VADER library\n",
    "\n",
    "    Parameters\n",
    "    ----------\n",
    "    text_column : pandas Series\n",
    "        A pandas Series of string values\n",
    "\n",
    "    Returns\n",
    "    -------\n",
    "    pandas DataFrame\n",
    "        A DataFrame containing sentiment scores of each\n",
    "        sample in the text_column\n",
    "    \"\"\"\n",
    "    sentiment_scores = text_column.map(sentiment_analyzer.polarity_scores)\n",
    "\n",
    "    sentiment_df = pd.DataFrame()\n",
    "    sentiment_df['neg'] = sentiment_scores.map(lambda x: x['neg'])\n",
    "    sentiment_df['neu'] = sentiment_scores.map(lambda x: x['neu'])\n",
    "    sentiment_df['pos'] = sentiment_scores.map(lambda x: x['pos'])\n",
    "    sentiment_df['compound'] = sentiment_scores.map(lambda x: x['compound'])\n",
    "\n",
    "    return sentiment_df\n",
    "\n",
    "\n",
    "pd.concat([X, get_sentiment_df(X)], axis=1)"
   ]
  },
  {
   "cell_type": "markdown",
   "id": "c1dee622-a58f-4128-8f73-2b483622415d",
   "metadata": {},
   "source": [
    "## Building The Classifier"
   ]
  },
  {
   "cell_type": "markdown",
   "id": "d2fe51c7-ead0-4232-9d93-f6a41fe553f7",
   "metadata": {},
   "source": [
    "We will try out several machine learning classifiers with scikit-learn, and then we will move onto using more advanced techniques such as word embeddings and deep learning.\n",
    "\n",
    "While using scikit-learn I will take advantage of custom transformers and pipelines to enable easy model selection and hyperparameter tuning."
   ]
  },
  {
   "cell_type": "markdown",
   "id": "0bbe478d-82bf-4a0a-993a-707b2d9987f3",
   "metadata": {},
   "source": [
    "For now I will create a custom tranformer to handle tokenization, stemming, vectorization, and sentiment analysis."
   ]
  },
  {
   "cell_type": "code",
   "execution_count": 42,
   "id": "557ea81d-002d-44a3-906d-9c59342f6907",
   "metadata": {},
   "outputs": [],
   "source": [
    "class FeatureExtraction(BaseEstimator, TransformerMixin):\n",
    "    \"\"\"\n",
    "    Custom Scikit-learn transformer that is \n",
    "    responsible for tokenization, stemming, vectorization,\n",
    "    and sentiment analysis.\n",
    "    \n",
    "    Inherits from: BaseEstimator, TransformerMixin\n",
    "    \"\"\"\n",
    "\n",
    "    def __init__(self,\n",
    "                 min_df=5,\n",
    "                 max_df=0.7,\n",
    "                 ngram_range=2,\n",
    "                 stop_words=True,\n",
    "                 idf=True,\n",
    "                 sentiment=True,\n",
    "                 stemming=True):\n",
    "        \"\"\"\n",
    "        FeatureExtractor class constructor\n",
    "        \n",
    "        Parameters\n",
    "        ----------\n",
    "        min_df: int or float < 1.0\n",
    "            Ignore terms that occur in less than min_df documents.\n",
    "            If float treat min_df as a percentage.\n",
    "        \n",
    "        max_df: int or float < 1.0\n",
    "            Ignore terms that occur in more than max_df documents.\n",
    "            If float treat max_df as a percentage.\n",
    "            \n",
    "        ngram_range: int\n",
    "            Set the maximum range to use for ngrams. If ngram_range = 3\n",
    "            the tokenizer will produce 1-grams, 2-grams, and 3-grams of the dataset.\n",
    "        \n",
    "        stop_words: bool\n",
    "            Whether to filter stopwords from the dataset or not. \n",
    "            If True the nltk list of stop words will be used.\n",
    "            \n",
    "        idf: bool\n",
    "            Whether to use idf weight values when vectorizing the dataset.\n",
    "            \n",
    "        sentiment: bool\n",
    "            Whether to use sentiment scores when transforming the dataset\n",
    "            \n",
    "        stemming: bool\n",
    "            Whether to use stemming when tokenizing the dataset\n",
    "        \"\"\"\n",
    "        self.idf = idf\n",
    "        self.stemming = stemming\n",
    "        self.sentiment = sentiment\n",
    "        self.stop_words = stop_words\n",
    "        self.min_df = min_df\n",
    "        self.max_df = max_df\n",
    "        self.ngram_range = ngram_range\n",
    "\n",
    "        # Define the tweet tokenizer\n",
    "        self.tweet_tokenizer = TweetTokenizer(preserve_case=False,\n",
    "                                              reduce_len=True,\n",
    "                                              strip_handles=True,\n",
    "                                              match_phone_numbers=False).tokenize\n",
    "\n",
    "        # Define the stemmer (if using)\n",
    "        self.stemmer = PorterStemmer().stem if self.stemming else None\n",
    "        \n",
    "        # Define the sentiment_analyzer (if using)\n",
    "        self.sentiment_analyzer = SentimentIntensityAnalyzer() if self.sentiment else None\n",
    "\n",
    "        # Define the stopword list (if using)\n",
    "        self.stopword_list = stopwords.words('english') if self.stop_words else None\n",
    "        \n",
    "        # Define the vectorizer\n",
    "        self.vectorizer = TfidfVectorizer(min_df=self.min_df,\n",
    "                                          max_df=self.max_df,\n",
    "                                          ngram_range=(1, self.ngram_range),\n",
    "                                          stop_words=self.stopword_list,\n",
    "                                          use_idf=self.idf,\n",
    "                                          tokenizer=self._davidson_tokenizer)\n",
    "\n",
    "    def fit(self, X, y=None):\n",
    "        \"\"\"\n",
    "        Fit the vectorizer to the training set.\n",
    "        \n",
    "        Parameters\n",
    "        ----------\n",
    "        X: numpy array or pandas DataFrame\n",
    "            Training set to fit the vectorizer on\n",
    "            \n",
    "        y: numpy array or pandas DataFrame\n",
    "            The labels of the training set.\n",
    "            y will not be used in this method so we set it to None\n",
    "        \n",
    "        Returns\n",
    "        ----------\n",
    "        FeatureExtractor\n",
    "            This method will return its own instance like other scikit-learn\n",
    "            fit methods do.\n",
    "        \"\"\"\n",
    "        # Make a copy of the training set\n",
    "        X_copy = X.copy()\n",
    "\n",
    "        # If the training set is a DataFrame convert to a numpy array\n",
    "        if isinstance(X_copy, pd.DataFrame):\n",
    "            X_copy = X_copy.to_numpy()\n",
    "\n",
    "        # Fit the vectorizer on the training set\n",
    "        self.vectorizer.fit(X_copy)\n",
    "        \n",
    "        # Returns an instance of itself\n",
    "        return self\n",
    "\n",
    "    def transform(self, X, y=None):\n",
    "        \"\"\"\n",
    "        Transform the training set into a format suitable for use with\n",
    "        machine learning algorithms.\n",
    "        \n",
    "        Parameters\n",
    "        ----------\n",
    "        X: pandas DataFrame\n",
    "            Training set to transform\n",
    "            \n",
    "        y: numpy array or pandas DataFrame\n",
    "            The labels of the training set.\n",
    "            y will not be used in this method so we set it to None\n",
    "        \n",
    "        Returns\n",
    "        ----------\n",
    "        numpy array\n",
    "            Transformed feature matrix\n",
    "        \"\"\"\n",
    "        # Make a copy of X\n",
    "        X_copy = X.copy()\n",
    "        \n",
    "        # Vectorize X\n",
    "        X_transformed = self.vectorizer.transform(X_copy).todense()\n",
    "        \n",
    "        # Get the sentiment scores (if using)\n",
    "        if self.sentiment_analyzer:\n",
    "            sentiments = self._get_sentiment_df(X_copy)\n",
    "            X_transformed = np.c_[X_transformed, sentiments]\n",
    "\n",
    "        return X_transformed\n",
    "\n",
    "    def _davidson_tokenizer(self, value):\n",
    "        \"\"\"\n",
    "        Custom tokenizer for use with the TfidfVectorizer\n",
    "        Private method.\n",
    "        \n",
    "        Parameters\n",
    "        ----------\n",
    "        value: str\n",
    "            String value to tokenize and optionally stem\n",
    "        \n",
    "        Returns\n",
    "        ----------\n",
    "         list or numpy array of str values\n",
    "            A list or array of tokens\n",
    "        \"\"\"\n",
    "        # Tokenize with nltk's TweetTokenizer\n",
    "        tokens = self.tweet_tokenizer(value)\n",
    "        \n",
    "        # Optionally stem the tokens\n",
    "        if self.stemmer:\n",
    "            tokens_stemmed = [self.stemmer(token) for token in tokens]\n",
    "            return tokens_stemmed\n",
    "        else:\n",
    "            return tokens\n",
    "\n",
    "    def _get_sentiment_df(self, text_column):\n",
    "        \"\"\"\n",
    "        Uses the nltk VADER module to get the sentiment values of a pandas Series.\n",
    "        Private method.\n",
    "        \n",
    "        Parameters\n",
    "        ----------\n",
    "        text_column: pandas Series of str values\n",
    "            The text values that we want to get the sentiment scores of\n",
    "            \n",
    "        Returns\n",
    "        ----------\n",
    "        sentiment_df: pandas DataFrame\n",
    "            A DataFrame of the negative, neutral, positive, and compound scores of all the \n",
    "            values in the text_column\n",
    "        \"\"\"\n",
    "        sentiment_scores = text_column.map(self.sentiment_analyzer.polarity_scores)\n",
    "\n",
    "        sentiment_df = pd.DataFrame()\n",
    "        sentiment_df['neg'] = sentiment_scores.map(lambda x: x['neg'])\n",
    "        sentiment_df['neu'] = sentiment_scores.map(lambda x: x['neu'])\n",
    "        sentiment_df['pos'] = sentiment_scores.map(lambda x: x['pos'])\n",
    "\n",
    "        # Change the range of compound sentiment scores from (-1, 1) to (0, 1) because\n",
    "        # some classifiers do not support negative values (e.g. Naive Bayes)\n",
    "        sentiment_df['compound'] = sentiment_scores.map(\n",
    "            lambda x: np.interp(x['compound'], [-1, 1], [0, 1]))\n",
    "\n",
    "        return sentiment_df"
   ]
  },
  {
   "cell_type": "markdown",
   "id": "636b5cb4-b685-422d-adbd-798066f9fc3f",
   "metadata": {},
   "source": [
    "We will start off with Naive Bayes which is a good classifier to use initially, because it trains fast and we do not have to worry about hyperparameter tuning."
   ]
  },
  {
   "cell_type": "code",
   "execution_count": 59,
   "id": "bf1d2328-1a6d-4e23-963a-b72eb55388ac",
   "metadata": {},
   "outputs": [],
   "source": [
    "from sklearn.naive_bayes import MultinomialNB\n",
    "from sklearn.pipeline import Pipeline\n",
    "\n",
    "# Naive Bayes Pipeline, including text cleaning, feature extraction, and Multinomial Naive bayes\n",
    "nb_pipeline = Pipeline([('cleaner', TextCleaner()),\n",
    "                        ('vectorizer', FeatureExtraction()),\n",
    "                        ('clf', MultinomialNB())])"
   ]
  },
  {
   "cell_type": "code",
   "execution_count": 49,
   "id": "2026397c-077c-4fcb-9cce-e8e420e5c64e",
   "metadata": {},
   "outputs": [],
   "source": [
    "# Read the davidson dataset\n",
    "davidson = pd.read_csv(DAVIDSON_DATA_PATH, index_col=0)"
   ]
  },
  {
   "cell_type": "markdown",
   "id": "45156b41-f41f-4bba-a9da-c8c9b7239f02",
   "metadata": {},
   "source": [
    "We will be using the cross_validate function with cv=5 which will train our model 5 times, with each time using a different subset of the dataset as the training set. Visually, it looks like this:\n",
    "\n",
    "- [**Test**] [Train] [Train] [Train] [Train]\n",
    "- [Train] [**Test**] [Train] [Train] [Train]\n",
    "- [Train] [Train] [**Test**] [Train] [Train]\n",
    "- [Train] [Train] [Train] [**Test**] [Train]\n",
    "- [Train] [Train] [Train] [Train] [**Test**]\n",
    "\n",
    "By averaging the results of the cross validation scores we get a good indicator of how well our model performs. Cross validation is particularly useful when there is not that much data to train on.\n",
    "\n",
    "**Note**: I have added `%%capture --no-display` to the top of some of these cells to suppress some numpy warnings. "
   ]
  },
  {
   "cell_type": "code",
   "execution_count": 45,
   "id": "c2acf276-454d-4f5c-8b38-9dcb7b4f9b64",
   "metadata": {},
   "outputs": [],
   "source": [
    "%%capture --no-display\n",
    "\n",
    "from sklearn.model_selection import cross_validate\n",
    "\n",
    "# Define our scoring metrics\n",
    "scoring_metrics = ['f1_macro', 'recall_macro', 'precision_macro', 'accuracy']\n",
    " \n",
    "nb_results = cross_validate(nb_pipeline,\n",
    "                            X=davidson['tweet'],\n",
    "                            y=davidson['class'],\n",
    "                            scoring=scoring_metrics,\n",
    "                            cv=5)"
   ]
  },
  {
   "cell_type": "code",
   "execution_count": 46,
   "id": "b5ff91d9-0f4b-4b38-99ac-0db8d2a4cd4c",
   "metadata": {},
   "outputs": [
    {
     "name": "stdout",
     "output_type": "stream",
     "text": [
      "0.5249384016957876\n"
     ]
    }
   ],
   "source": [
    "# We have to average the f1 scores for each cross validation fold\n",
    "print(np.mean(nb_results['test_f1_macro']))"
   ]
  },
  {
   "cell_type": "markdown",
   "id": "bb4a7c63-b8e2-4dee-9540-0479e51f287e",
   "metadata": {},
   "source": [
    "This is better than our baseline, but this is not a good score. Let us try a different classifier."
   ]
  },
  {
   "cell_type": "code",
   "execution_count": 45,
   "id": "52a9bba1-2c26-4e52-83c8-35f4c8dbc64a",
   "metadata": {},
   "outputs": [],
   "source": [
    "from sklearn.svm import LinearSVC\n",
    "\n",
    "# Support Vector Machine pipeline including text cleaning, feature extraction, and LinearSVC\n",
    "svc_pipeline = Pipeline([('cleaner', TextCleaner()),\n",
    "                         ('vectorizer', FeatureExtraction()),\n",
    "                         ('clf', LinearSVC(random_state=SEED_NUM))])"
   ]
  },
  {
   "cell_type": "code",
   "execution_count": 48,
   "id": "1c006311-5844-4420-84d2-b48a92a850a0",
   "metadata": {},
   "outputs": [],
   "source": [
    "%%capture --no-display\n",
    "\n",
    "svc_results = cross_validate(svc_pipeline,\n",
    "                             X=davidson['tweet'],\n",
    "                             y=davidson['class'],\n",
    "                             scoring=scoring_metrics,\n",
    "                             cv=5)"
   ]
  },
  {
   "cell_type": "code",
   "execution_count": 49,
   "id": "4be5f72c-1122-45ba-b271-7e60a34a124c",
   "metadata": {},
   "outputs": [
    {
     "name": "stdout",
     "output_type": "stream",
     "text": [
      "0.7093959487681858\n"
     ]
    }
   ],
   "source": [
    "print(np.mean(svc_results['test_f1_macro']))"
   ]
  },
  {
   "cell_type": "markdown",
   "id": "5a30be25-bdf5-4a18-a8bb-33be68a5798d",
   "metadata": {},
   "source": [
    "By using a Linear Support Vector Classifier we get a much better score, let us see if we can improve it with some hyperparameter tuning."
   ]
  },
  {
   "cell_type": "markdown",
   "id": "f62dad56-a156-41f3-a4c8-71dc34164ad6",
   "metadata": {},
   "source": [
    "#### Improving our Classifier "
   ]
  },
  {
   "cell_type": "markdown",
   "id": "b400c938-1a03-4fa1-957b-b2907c88ec93",
   "metadata": {},
   "source": [
    "We will perform some automatic hyperparameter tuning by defining a parameter grid that will be our search space and using RandomizedSearchCV to search through it. We will be using LinearSVC as our classifier, and most of the hyperparameters we are looking at will be related to the feature extraction."
   ]
  },
  {
   "cell_type": "code",
   "execution_count": 50,
   "id": "542d5fd5-5b37-46d1-8b4a-4cccbe049da0",
   "metadata": {},
   "outputs": [],
   "source": [
    "from sklearn.model_selection import RandomizedSearchCV\n",
    "\n",
    "random_search_pipeline = Pipeline([\n",
    "    ('cleaner', TextCleaner()),\n",
    "    ('feature_extractor', FeatureExtraction()),\n",
    "    ('clf', LinearSVC(random_state=SEED_NUM)),\n",
    "])\n",
    "\n",
    "param_grid = {\n",
    "    'feature_extractor__min_df': [2, 5],\n",
    "    'feature_extractor__ngram_range': [2, 3],\n",
    "    'feature_extractor__max_df': [0.4, 0.5, 0.6, 0.7],\n",
    "    'feature_extractor__stop_words': [True, False],\n",
    "    'feature_extractor__idf': [True, False],\n",
    "    'feature_extractor__stemming': [True, False],\n",
    "    'clf__C': [0.05, 0.1, 1.0, 10, 50, 100],\n",
    "}\n",
    "\n",
    "scoring_metrics = ['f1_macro', 'recall_macro', 'precision_macro', 'accuracy']\n",
    "\n",
    "random_search = RandomizedSearchCV(random_search_pipeline,\n",
    "                                   param_grid,\n",
    "                                   scoring=scoring_metrics,\n",
    "                                   refit='f1_macro',\n",
    "                                   cv=5,\n",
    "                                   n_iter=80,\n",
    "                                   random_state=SEED_NUM,\n",
    "                                  )"
   ]
  },
  {
   "cell_type": "code",
   "execution_count": 94,
   "id": "bca8feb2-856c-437b-bae5-c86cbbb0ee3d",
   "metadata": {},
   "outputs": [],
   "source": [
    "%%capture --no-display\n",
    "\n",
    "# Run the search (takes a very long time)\n",
    "search_results = random_search.fit(davidson['tweet'], davidson['class'])"
   ]
  },
  {
   "cell_type": "markdown",
   "id": "40c256c3-c091-41b8-84f4-c9f2de5b8ea3",
   "metadata": {},
   "source": [
    "The below code blocks will parse the results of the random search, to see what effect the different hyperparameters have on our model's performance."
   ]
  },
  {
   "cell_type": "code",
   "execution_count": 96,
   "id": "3063b805-6145-4441-bf0c-734d21206bb0",
   "metadata": {},
   "outputs": [],
   "source": [
    "# Read the results with pandas\n",
    "results_df = pd.DataFrame(search_results.cv_results_)"
   ]
  },
  {
   "cell_type": "code",
   "execution_count": 98,
   "id": "a304afd3-c7fe-4258-8a83-d8c7054f5056",
   "metadata": {},
   "outputs": [],
   "source": [
    "columns_of_interest = [\n",
    "    'param_clf__C',\n",
    "    'param_feature_extractor__min_df',\n",
    "    'param_feature_extractor__max_df',\n",
    "    'param_feature_extractor__ngram_range',\n",
    "    'param_feature_extractor__stop_words',\n",
    "    'param_feature_extractor__idf',\n",
    "    'param_feature_extractor__stemming',\n",
    "    'mean_test_f1_macro',\n",
    "    'mean_test_recall_macro',\n",
    "    'mean_test_precision_macro',\n",
    "    'mean_test_accuracy',\n",
    "    'rank_test_f1_macro',\n",
    "]\n",
    "\n",
    "# We will use this dictionary to rename the columns for clarity\n",
    "columns_renamed = {\n",
    "    'param_clf__C': 'C',\n",
    "    'mean_test_f1_macro': 'F1 Score',\n",
    "    'mean_test_recall_macro': 'Recall',\n",
    "    'mean_test_precision_macro': 'Precision',\n",
    "    'mean_test_accuracy': 'Accuracy',\n",
    "    'rank_test_f1_macro': 'F1 Rank',\n",
    "    'param_feature_extractor__min_df': 'min_df',\n",
    "    'param_feature_extractor__max_df': 'max_df',\n",
    "    'param_feature_extractor__ngram_range': 'N-Gram Range',\n",
    "    'param_feature_extractor__stop_words': 'Stop Words',\n",
    "    'param_feature_extractor__idf': 'Use IDF',\n",
    "    'param_feature_extractor__stemming': 'Stemming'\n",
    "}\n",
    "results_df_copy = results_df.copy()"
   ]
  },
  {
   "cell_type": "code",
   "execution_count": 52,
   "id": "055abbed-39ee-4192-995a-d092d8a6c684",
   "metadata": {},
   "outputs": [],
   "source": [
    "# Rename columns and sort by f1 rank\n",
    "grid_search_summary_1 = results_df_copy[columns_of_interest].rename(columns=columns_renamed).sort_values(by='F1 Rank', ascending=True)\n",
    "\n",
    "# Save the results\n",
    "grid_search_summary_1.to_csv('./models/results/grid_search_results_1.csv')"
   ]
  },
  {
   "cell_type": "code",
   "execution_count": 65,
   "id": "1ebc3461-d092-4049-88a0-c68eadf33d38",
   "metadata": {},
   "outputs": [
    {
     "data": {
      "text/html": [
       "<div>\n",
       "<style scoped>\n",
       "    .dataframe tbody tr th:only-of-type {\n",
       "        vertical-align: middle;\n",
       "    }\n",
       "\n",
       "    .dataframe tbody tr th {\n",
       "        vertical-align: top;\n",
       "    }\n",
       "\n",
       "    .dataframe thead th {\n",
       "        text-align: right;\n",
       "    }\n",
       "</style>\n",
       "<table border=\"1\" class=\"dataframe\">\n",
       "  <thead>\n",
       "    <tr style=\"text-align: right;\">\n",
       "      <th></th>\n",
       "      <th>C</th>\n",
       "      <th>min_df</th>\n",
       "      <th>max_df</th>\n",
       "      <th>N-Gram Range</th>\n",
       "      <th>Stop Words</th>\n",
       "      <th>Use IDF</th>\n",
       "      <th>Stemming</th>\n",
       "      <th>F1 Score</th>\n",
       "      <th>Recall</th>\n",
       "      <th>Precision</th>\n",
       "      <th>Accuracy</th>\n",
       "      <th>F1 Rank</th>\n",
       "    </tr>\n",
       "  </thead>\n",
       "  <tbody>\n",
       "    <tr>\n",
       "      <th>0</th>\n",
       "      <td>1.0</td>\n",
       "      <td>5</td>\n",
       "      <td>0.7</td>\n",
       "      <td>2</td>\n",
       "      <td>False</td>\n",
       "      <td>True</td>\n",
       "      <td>True</td>\n",
       "      <td>0.709</td>\n",
       "      <td>0.693</td>\n",
       "      <td>0.759</td>\n",
       "      <td>0.896</td>\n",
       "      <td>1</td>\n",
       "    </tr>\n",
       "    <tr>\n",
       "      <th>52</th>\n",
       "      <td>1.0</td>\n",
       "      <td>5</td>\n",
       "      <td>0.5</td>\n",
       "      <td>3</td>\n",
       "      <td>False</td>\n",
       "      <td>True</td>\n",
       "      <td>False</td>\n",
       "      <td>0.709</td>\n",
       "      <td>0.693</td>\n",
       "      <td>0.759</td>\n",
       "      <td>0.896</td>\n",
       "      <td>1</td>\n",
       "    </tr>\n",
       "    <tr>\n",
       "      <th>69</th>\n",
       "      <td>1.0</td>\n",
       "      <td>5</td>\n",
       "      <td>0.6</td>\n",
       "      <td>3</td>\n",
       "      <td>False</td>\n",
       "      <td>True</td>\n",
       "      <td>False</td>\n",
       "      <td>0.709</td>\n",
       "      <td>0.693</td>\n",
       "      <td>0.759</td>\n",
       "      <td>0.896</td>\n",
       "      <td>1</td>\n",
       "    </tr>\n",
       "    <tr>\n",
       "      <th>8</th>\n",
       "      <td>1.0</td>\n",
       "      <td>5</td>\n",
       "      <td>0.5</td>\n",
       "      <td>2</td>\n",
       "      <td>False</td>\n",
       "      <td>False</td>\n",
       "      <td>True</td>\n",
       "      <td>0.709</td>\n",
       "      <td>0.693</td>\n",
       "      <td>0.759</td>\n",
       "      <td>0.896</td>\n",
       "      <td>1</td>\n",
       "    </tr>\n",
       "    <tr>\n",
       "      <th>74</th>\n",
       "      <td>1.0</td>\n",
       "      <td>5</td>\n",
       "      <td>0.5</td>\n",
       "      <td>3</td>\n",
       "      <td>False</td>\n",
       "      <td>False</td>\n",
       "      <td>True</td>\n",
       "      <td>0.709</td>\n",
       "      <td>0.693</td>\n",
       "      <td>0.759</td>\n",
       "      <td>0.896</td>\n",
       "      <td>1</td>\n",
       "    </tr>\n",
       "    <tr>\n",
       "      <th>51</th>\n",
       "      <td>1.0</td>\n",
       "      <td>2</td>\n",
       "      <td>0.4</td>\n",
       "      <td>2</td>\n",
       "      <td>True</td>\n",
       "      <td>True</td>\n",
       "      <td>False</td>\n",
       "      <td>0.709</td>\n",
       "      <td>0.693</td>\n",
       "      <td>0.759</td>\n",
       "      <td>0.896</td>\n",
       "      <td>1</td>\n",
       "    </tr>\n",
       "    <tr>\n",
       "      <th>73</th>\n",
       "      <td>1.0</td>\n",
       "      <td>2</td>\n",
       "      <td>0.4</td>\n",
       "      <td>2</td>\n",
       "      <td>True</td>\n",
       "      <td>True</td>\n",
       "      <td>True</td>\n",
       "      <td>0.709</td>\n",
       "      <td>0.693</td>\n",
       "      <td>0.759</td>\n",
       "      <td>0.896</td>\n",
       "      <td>1</td>\n",
       "    </tr>\n",
       "    <tr>\n",
       "      <th>3</th>\n",
       "      <td>1.0</td>\n",
       "      <td>5</td>\n",
       "      <td>0.4</td>\n",
       "      <td>3</td>\n",
       "      <td>True</td>\n",
       "      <td>False</td>\n",
       "      <td>False</td>\n",
       "      <td>0.709</td>\n",
       "      <td>0.693</td>\n",
       "      <td>0.759</td>\n",
       "      <td>0.896</td>\n",
       "      <td>1</td>\n",
       "    </tr>\n",
       "    <tr>\n",
       "      <th>50</th>\n",
       "      <td>1.0</td>\n",
       "      <td>2</td>\n",
       "      <td>0.6</td>\n",
       "      <td>2</td>\n",
       "      <td>True</td>\n",
       "      <td>False</td>\n",
       "      <td>False</td>\n",
       "      <td>0.709</td>\n",
       "      <td>0.693</td>\n",
       "      <td>0.759</td>\n",
       "      <td>0.896</td>\n",
       "      <td>1</td>\n",
       "    </tr>\n",
       "    <tr>\n",
       "      <th>78</th>\n",
       "      <td>1.0</td>\n",
       "      <td>5</td>\n",
       "      <td>0.7</td>\n",
       "      <td>2</td>\n",
       "      <td>True</td>\n",
       "      <td>True</td>\n",
       "      <td>False</td>\n",
       "      <td>0.709</td>\n",
       "      <td>0.693</td>\n",
       "      <td>0.759</td>\n",
       "      <td>0.896</td>\n",
       "      <td>1</td>\n",
       "    </tr>\n",
       "    <tr>\n",
       "      <th>36</th>\n",
       "      <td>1.0</td>\n",
       "      <td>5</td>\n",
       "      <td>0.4</td>\n",
       "      <td>2</td>\n",
       "      <td>True</td>\n",
       "      <td>True</td>\n",
       "      <td>False</td>\n",
       "      <td>0.709</td>\n",
       "      <td>0.693</td>\n",
       "      <td>0.759</td>\n",
       "      <td>0.896</td>\n",
       "      <td>1</td>\n",
       "    </tr>\n",
       "    <tr>\n",
       "      <th>57</th>\n",
       "      <td>1.0</td>\n",
       "      <td>2</td>\n",
       "      <td>0.6</td>\n",
       "      <td>3</td>\n",
       "      <td>True</td>\n",
       "      <td>True</td>\n",
       "      <td>True</td>\n",
       "      <td>0.709</td>\n",
       "      <td>0.693</td>\n",
       "      <td>0.759</td>\n",
       "      <td>0.896</td>\n",
       "      <td>1</td>\n",
       "    </tr>\n",
       "    <tr>\n",
       "      <th>37</th>\n",
       "      <td>0.1</td>\n",
       "      <td>5</td>\n",
       "      <td>0.5</td>\n",
       "      <td>3</td>\n",
       "      <td>False</td>\n",
       "      <td>False</td>\n",
       "      <td>False</td>\n",
       "      <td>0.677</td>\n",
       "      <td>0.659</td>\n",
       "      <td>0.803</td>\n",
       "      <td>0.899</td>\n",
       "      <td>13</td>\n",
       "    </tr>\n",
       "    <tr>\n",
       "      <th>56</th>\n",
       "      <td>0.1</td>\n",
       "      <td>5</td>\n",
       "      <td>0.7</td>\n",
       "      <td>2</td>\n",
       "      <td>False</td>\n",
       "      <td>False</td>\n",
       "      <td>True</td>\n",
       "      <td>0.677</td>\n",
       "      <td>0.659</td>\n",
       "      <td>0.803</td>\n",
       "      <td>0.899</td>\n",
       "      <td>13</td>\n",
       "    </tr>\n",
       "    <tr>\n",
       "      <th>34</th>\n",
       "      <td>0.1</td>\n",
       "      <td>5</td>\n",
       "      <td>0.4</td>\n",
       "      <td>2</td>\n",
       "      <td>False</td>\n",
       "      <td>False</td>\n",
       "      <td>True</td>\n",
       "      <td>0.677</td>\n",
       "      <td>0.659</td>\n",
       "      <td>0.803</td>\n",
       "      <td>0.899</td>\n",
       "      <td>13</td>\n",
       "    </tr>\n",
       "  </tbody>\n",
       "</table>\n",
       "</div>"
      ],
      "text/plain": [
       "      C  min_df  max_df  N-Gram Range  Stop Words  Use IDF  Stemming  \\\n",
       "0   1.0       5     0.7             2       False     True      True   \n",
       "52  1.0       5     0.5             3       False     True     False   \n",
       "69  1.0       5     0.6             3       False     True     False   \n",
       "8   1.0       5     0.5             2       False    False      True   \n",
       "74  1.0       5     0.5             3       False    False      True   \n",
       "51  1.0       2     0.4             2        True     True     False   \n",
       "73  1.0       2     0.4             2        True     True      True   \n",
       "3   1.0       5     0.4             3        True    False     False   \n",
       "50  1.0       2     0.6             2        True    False     False   \n",
       "78  1.0       5     0.7             2        True     True     False   \n",
       "36  1.0       5     0.4             2        True     True     False   \n",
       "57  1.0       2     0.6             3        True     True      True   \n",
       "37  0.1       5     0.5             3       False    False     False   \n",
       "56  0.1       5     0.7             2       False    False      True   \n",
       "34  0.1       5     0.4             2       False    False      True   \n",
       "\n",
       "    F1 Score  Recall  Precision  Accuracy  F1 Rank  \n",
       "0      0.709   0.693      0.759     0.896        1  \n",
       "52     0.709   0.693      0.759     0.896        1  \n",
       "69     0.709   0.693      0.759     0.896        1  \n",
       "8      0.709   0.693      0.759     0.896        1  \n",
       "74     0.709   0.693      0.759     0.896        1  \n",
       "51     0.709   0.693      0.759     0.896        1  \n",
       "73     0.709   0.693      0.759     0.896        1  \n",
       "3      0.709   0.693      0.759     0.896        1  \n",
       "50     0.709   0.693      0.759     0.896        1  \n",
       "78     0.709   0.693      0.759     0.896        1  \n",
       "36     0.709   0.693      0.759     0.896        1  \n",
       "57     0.709   0.693      0.759     0.896        1  \n",
       "37     0.677   0.659      0.803     0.899       13  \n",
       "56     0.677   0.659      0.803     0.899       13  \n",
       "34     0.677   0.659      0.803     0.899       13  "
      ]
     },
     "execution_count": 65,
     "metadata": {},
     "output_type": "execute_result"
    }
   ],
   "source": [
    "grid_search_summary_1 = pd.read_csv('./models/results/grid_search_results_1.csv', index_col=0)\n",
    "\n",
    "grid_search_summary_1.head(15).round(3)"
   ]
  },
  {
   "cell_type": "markdown",
   "id": "f0a96702-1d22-463d-b1a0-ab54295cdf6d",
   "metadata": {},
   "source": [
    "It looks like our randomized search was not able to improve on our default parameters, so we will just be using the default values from now on.\n",
    "\n",
    "We will now check if our model is overfitting. To do this we will need to create training and test sets.\n",
    "\n",
    "**Note**: While splitting the dataset into training and test sets we have to use the stratify option to ensure both sets have a similar class balance."
   ]
  },
  {
   "cell_type": "code",
   "execution_count": 56,
   "id": "63e3ec8a-e9c0-4869-8ff0-5883e1ef4181",
   "metadata": {},
   "outputs": [],
   "source": [
    "preprocessing_pipeline = Pipeline([\n",
    "    ('cleaner', TextCleaner()),\n",
    "    ('feature_extractor', FeatureExtraction()),\n",
    "])\n",
    "\n",
    "# Create training and test sets\n",
    "X_train, X_test, y_train, y_test = train_test_split(davidson['tweet'],\n",
    "                                                    davidson['class'],\n",
    "                                                    train_size=0.9,\n",
    "                                                    random_state=SEED_NUM,\n",
    "                                                    stratify=davidson['class'])"
   ]
  },
  {
   "cell_type": "code",
   "execution_count": 67,
   "id": "37693b13-9db3-4aac-9f17-afdaa28c043f",
   "metadata": {},
   "outputs": [
    {
     "data": {
      "text/plain": [
       "Pipeline(steps=[('cleaner', TextCleaner()),\n",
       "                ('feature_extractor', FeatureExtraction())])"
      ]
     },
     "execution_count": 67,
     "metadata": {},
     "output_type": "execute_result"
    }
   ],
   "source": [
    "%%capture --no-display\n",
    "\n",
    "preprocessing_pipeline.fit(X_train)"
   ]
  },
  {
   "cell_type": "code",
   "execution_count": 68,
   "id": "4e353d63-478e-4fcc-bd4f-583fcd6e9dcf",
   "metadata": {},
   "outputs": [],
   "source": [
    "# Preprocess training and test sets\n",
    "X_train_processed = preprocessing_pipeline.transform(X_train)\n",
    "X_test_processed = preprocessing_pipeline.transform(X_test)"
   ]
  },
  {
   "cell_type": "code",
   "execution_count": 69,
   "id": "8335cdb7-9581-4ad5-81bf-2bb60584e66f",
   "metadata": {},
   "outputs": [
    {
     "data": {
      "text/plain": [
       "LinearSVC(random_state=24)"
      ]
     },
     "execution_count": 69,
     "metadata": {},
     "output_type": "execute_result"
    }
   ],
   "source": [
    "%%capture --no-display\n",
    "\n",
    "svc = LinearSVC(random_state=SEED_NUM)\n",
    "\n",
    "svc.fit(X_train_processed, y_train)"
   ]
  },
  {
   "cell_type": "code",
   "execution_count": 76,
   "id": "c0d778a4-d06f-4390-891e-34b84f455131",
   "metadata": {},
   "outputs": [
    {
     "name": "stderr",
     "output_type": "stream",
     "text": [
      "C:\\ProgramData\\Miniconda3\\envs\\nlp-mid\\lib\\site-packages\\sklearn\\utils\\validation.py:585: FutureWarning: np.matrix usage is deprecated in 1.0 and will raise a TypeError in 1.2. Please convert to a numpy array with np.asarray. For more information see: https://numpy.org/doc/stable/reference/generated/numpy.matrix.html\n",
      "  warnings.warn(\n"
     ]
    },
    {
     "name": "stdout",
     "output_type": "stream",
     "text": [
      "Accuracy:  0.9520713773314203\n",
      "Precision:  0.9166653433970877\n",
      "Recall:  0.8216814926626088\n",
      "F1 Score:  0.8554408074677967\n"
     ]
    }
   ],
   "source": [
    "evaluate_classifier(svc, X_train_processed, y_train, print_results=True)"
   ]
  },
  {
   "cell_type": "code",
   "execution_count": 77,
   "id": "99c18b17-90ce-4b46-b7be-493bd4253ec6",
   "metadata": {},
   "outputs": [
    {
     "name": "stdout",
     "output_type": "stream",
     "text": [
      "Accuracy:  0.9072206534893102\n",
      "Precision:  0.7868903050354664\n",
      "Recall:  0.7027874902874903\n",
      "F1 Score:  0.7256491826794477\n"
     ]
    },
    {
     "name": "stderr",
     "output_type": "stream",
     "text": [
      "C:\\ProgramData\\Miniconda3\\envs\\nlp-mid\\lib\\site-packages\\sklearn\\utils\\validation.py:585: FutureWarning: np.matrix usage is deprecated in 1.0 and will raise a TypeError in 1.2. Please convert to a numpy array with np.asarray. For more information see: https://numpy.org/doc/stable/reference/generated/numpy.matrix.html\n",
      "  warnings.warn(\n"
     ]
    }
   ],
   "source": [
    "evaluate_classifier(svc, X_test_processed, y_test, print_results=True)"
   ]
  },
  {
   "cell_type": "markdown",
   "id": "c0d68598-6547-4ed2-b3c0-f370d12ca37d",
   "metadata": {},
   "source": [
    "Based on the disparity between the F1 scores, we are overfitting to our training set by a good amount. Lets try using a random forest classifier. I did not include this classifier in the grid search since I know it will take an unreasonable amount of time to train given the large amount of features."
   ]
  },
  {
   "cell_type": "code",
   "execution_count": 60,
   "id": "d6faf1d5-d9cb-4ab2-9449-e7cc0c17dfa6",
   "metadata": {},
   "outputs": [
    {
     "name": "stderr",
     "output_type": "stream",
     "text": [
      "C:\\ProgramData\\Miniconda3\\envs\\nlp-mid\\lib\\site-packages\\sklearn\\utils\\validation.py:585: FutureWarning: np.matrix usage is deprecated in 1.0 and will raise a TypeError in 1.2. Please convert to a numpy array with np.asarray. For more information see: https://numpy.org/doc/stable/reference/generated/numpy.matrix.html\n",
      "  warnings.warn(\n"
     ]
    },
    {
     "data": {
      "text/plain": [
       "RandomForestClassifier(n_jobs=-1)"
      ]
     },
     "execution_count": 60,
     "metadata": {},
     "output_type": "execute_result"
    }
   ],
   "source": [
    "from sklearn.ensemble import RandomForestClassifier\n",
    "\n",
    "rf = RandomForestClassifier(n_jobs=-1)\n",
    "\n",
    "rf.fit(X_train_processed, y_train)"
   ]
  },
  {
   "cell_type": "code",
   "execution_count": 74,
   "id": "2d94b788-5308-48f2-8e68-fd219e8e92b3",
   "metadata": {},
   "outputs": [
    {
     "name": "stderr",
     "output_type": "stream",
     "text": [
      "C:\\ProgramData\\Miniconda3\\envs\\nlp-mid\\lib\\site-packages\\sklearn\\utils\\validation.py:585: FutureWarning: np.matrix usage is deprecated in 1.0 and will raise a TypeError in 1.2. Please convert to a numpy array with np.asarray. For more information see: https://numpy.org/doc/stable/reference/generated/numpy.matrix.html\n",
      "  warnings.warn(\n"
     ]
    },
    {
     "name": "stdout",
     "output_type": "stream",
     "text": [
      "Accuracy:  0.9958751793400287\n",
      "Precision:  0.9931032020148134\n",
      "Recall:  0.9877696945547404\n",
      "F1 Score:  0.9903870696382331\n"
     ]
    }
   ],
   "source": [
    "evaluate_classifier(rf, X_train_processed, y_train, print_results=True)"
   ]
  },
  {
   "cell_type": "code",
   "execution_count": 75,
   "id": "f4bae993-192c-430a-81a7-efcc367d2178",
   "metadata": {},
   "outputs": [
    {
     "name": "stdout",
     "output_type": "stream",
     "text": [
      "Accuracy:  0.9019766034691408\n",
      "Precision:  0.7565895004851599\n",
      "Recall:  0.6458891802641803\n",
      "F1 Score:  0.6603061518336438\n"
     ]
    },
    {
     "name": "stderr",
     "output_type": "stream",
     "text": [
      "C:\\ProgramData\\Miniconda3\\envs\\nlp-mid\\lib\\site-packages\\sklearn\\utils\\validation.py:585: FutureWarning: np.matrix usage is deprecated in 1.0 and will raise a TypeError in 1.2. Please convert to a numpy array with np.asarray. For more information see: https://numpy.org/doc/stable/reference/generated/numpy.matrix.html\n",
      "  warnings.warn(\n"
     ]
    }
   ],
   "source": [
    "evaluate_classifier(rf, X_test_processed, y_test, print_results=True)"
   ]
  },
  {
   "cell_type": "markdown",
   "id": "ae1aaabd-be41-42b0-a209-241fe470d318",
   "metadata": {},
   "source": [
    "The score on the test set is actually worse, and we are still badly overfitting. If we look at the amount of features we have in our features matrix it is easy to see why."
   ]
  },
  {
   "cell_type": "code",
   "execution_count": 64,
   "id": "5377470b-841f-4a4f-a34d-3ad8d1423230",
   "metadata": {},
   "outputs": [
    {
     "data": {
      "text/plain": [
       "(22304, 5954)"
      ]
     },
     "execution_count": 64,
     "metadata": {},
     "output_type": "execute_result"
    }
   ],
   "source": [
    "X_train_processed.shape"
   ]
  },
  {
   "cell_type": "markdown",
   "id": "129e15c5-497b-45fb-9a44-fadd6b6b78e1",
   "metadata": {},
   "source": [
    "We have around 6,000 features for each of our 22,300 training samples. This means that our features represent our training dataset too well which leads to overfitting.\n",
    "\n",
    "Unfortunately this is a consequence of the bag of words representation of the dataset, this large amount of features in our training dataset leads to models that do not generalize well to new data. Still, our F1 score of 0.725 on the test set using the linear SVC model is much greater than our baseline."
   ]
  },
  {
   "cell_type": "markdown",
   "id": "485c5c20-c6a7-4148-9fa9-b0f3ff29cc20",
   "metadata": {},
   "source": [
    "## Word Embeddings: A Different Approach"
   ]
  },
  {
   "cell_type": "markdown",
   "id": "d560aa99-2940-47d8-86be-86d2426d8c2c",
   "metadata": {},
   "source": [
    "As we saw above bag of words representations tend to produce very high dimensional feature matrices that could lead to poor generalization on unseen data. Another approach to represent text data is by using word embeddings. A word embedding is a way of representing a word in a vector of relatively low number of dimensions (typically 100 to 300 dimensions). They are simply an array of floating point values that represent the semantic meaning of the word. Word embeddings are produced by training a model on a very large corpus of text data. Training word embeddings is an unsupervised machine learning task, the weights are learned by how many times certain words appear together in a corpus. We will not be training word any embeddings in this notebook we will just use word vectors that have been trained on a very large amount of twitter data (2 Billion tweets!). These word embeddings come from Stanford's Glove project found [here](https://nlp.stanford.edu/projects/glove/).\n",
    "\n",
    "Word embeddings are typically used with deep learning techniques, but it is possible to use them with scikit-learn classifiers. I will demonstrate this below but the results are not that great."
   ]
  },
  {
   "cell_type": "code",
   "execution_count": 100,
   "id": "2571e278-11b8-4c78-9ddb-9d9da245c694",
   "metadata": {},
   "outputs": [],
   "source": [
    "# We import the zeugma library which makes using embeddings with scikit-learn easy\n",
    "from zeugma.embeddings import EmbeddingTransformer\n",
    "\n",
    "# We load an embedding transformer with weights from the Glove twitter embeddings\n",
    "glove_twitter = EmbeddingTransformer(model='glove-twitter-200')"
   ]
  },
  {
   "cell_type": "code",
   "execution_count": 50,
   "id": "20794747-daa5-4856-b14b-55c9e9b12ec2",
   "metadata": {},
   "outputs": [],
   "source": [
    "# We have to do some text cleaning without using pipelines\n",
    "tweet_tokenizer = TweetTokenizer(preserve_case=False,\n",
    "                                 reduce_len=True,\n",
    "                                 strip_handles=True,\n",
    "                                 match_phone_numbers=False).tokenize\n",
    "\n",
    "\n",
    "def clean_tweet(tweet):\n",
    "    tokens = tweet_tokenizer(tweet)\n",
    "    return \" \".join(tokens)\n",
    "\n",
    "text_cleaner = TextCleaner()\n",
    "# Create a clean version of our dataset\n",
    "davidson_clean = text_cleaner.transform(davidson['tweet'].map(clean_tweet))"
   ]
  },
  {
   "cell_type": "code",
   "execution_count": 59,
   "id": "f272a585-e35a-488e-afda-80ae63618631",
   "metadata": {},
   "outputs": [],
   "source": [
    "# Split into train and test sets\n",
    "X_train, X_test, y_train, y_test = train_test_split(davidson_clean,\n",
    "                                                    davidson['class'],\n",
    "                                                    train_size=0.9,\n",
    "                                                    random_state=SEED_NUM,\n",
    "                                                    stratify=davidson['class'])"
   ]
  },
  {
   "cell_type": "code",
   "execution_count": 118,
   "id": "c852a726-461e-4031-a954-92192dda2d6c",
   "metadata": {},
   "outputs": [],
   "source": [
    "# transform the training and test sets using the zeugma embedding transformer \n",
    "X_train_processed = glove_twitter.transform(X_train)\n",
    "X_test_processed = glove_twitter.transform(X_test)"
   ]
  },
  {
   "cell_type": "code",
   "execution_count": 119,
   "id": "279dd79c-267e-4ed4-8765-db4005c0283b",
   "metadata": {},
   "outputs": [],
   "source": [
    "# Produce sentiment scores\n",
    "X_train_sents = get_sentiment_df(X_train).to_numpy()\n",
    "X_test_sents = get_sentiment_df(X_test).to_numpy()"
   ]
  },
  {
   "cell_type": "code",
   "execution_count": 120,
   "id": "6dac5f74-648e-4d1d-9fe2-48a5b384faa3",
   "metadata": {},
   "outputs": [],
   "source": [
    "# Join sentiment scores with the word embeddings\n",
    "X_train_processed = np.c_[X_train_processed, X_train_sents]\n",
    "X_test_processed = np.c_[X_test_processed, X_test_sents]"
   ]
  },
  {
   "cell_type": "code",
   "execution_count": 121,
   "id": "14f8f31f-1f57-4f5f-b4f4-f92f408d1b22",
   "metadata": {},
   "outputs": [
    {
     "data": {
      "text/plain": [
       "LinearSVC(random_state=24)"
      ]
     },
     "execution_count": 121,
     "metadata": {},
     "output_type": "execute_result"
    }
   ],
   "source": [
    "%%capture --no-display\n",
    "\n",
    "svc = LinearSVC(random_state=SEED_NUM)\n",
    "\n",
    "# Start training\n",
    "svc.fit(X_train_processed, y_train)"
   ]
  },
  {
   "cell_type": "code",
   "execution_count": 122,
   "id": "562019c2-3561-4dc7-81ae-1f1e0dafb99a",
   "metadata": {},
   "outputs": [
    {
     "name": "stdout",
     "output_type": "stream",
     "text": [
      "Accuracy:  0.8933375179340028\n",
      "Precision:  0.7779380482031861\n",
      "Recall:  0.641177090526634\n",
      "F1 Score:  0.6580725186730128\n"
     ]
    }
   ],
   "source": [
    "evaluate_classifier(svc, X_train_processed, y_train, print_results=True)"
   ]
  },
  {
   "cell_type": "code",
   "execution_count": 123,
   "id": "b4f28523-dd0c-4d23-8633-16e26a6d96ca",
   "metadata": {},
   "outputs": [
    {
     "name": "stdout",
     "output_type": "stream",
     "text": [
      "Accuracy:  0.8935054457442517\n",
      "Precision:  0.7756939394248809\n",
      "Recall:  0.6397326631701632\n",
      "F1 Score:  0.6493965641032382\n"
     ]
    }
   ],
   "source": [
    "evaluate_classifier(svc, X_test_processed, y_test, print_results=True)"
   ]
  },
  {
   "cell_type": "markdown",
   "id": "e2bfc7f0-bb6f-4476-be22-99587bd2e176",
   "metadata": {},
   "source": [
    "We get a poor score using support vector machines, so lets try another classifier."
   ]
  },
  {
   "cell_type": "code",
   "execution_count": 127,
   "id": "4a82e4b6-74aa-4230-aee2-10f9cfc034a1",
   "metadata": {},
   "outputs": [
    {
     "data": {
      "text/plain": [
       "LogisticRegression(max_iter=1000, n_jobs=-1, random_state=24)"
      ]
     },
     "execution_count": 127,
     "metadata": {},
     "output_type": "execute_result"
    }
   ],
   "source": [
    "from sklearn.linear_model import LogisticRegression\n",
    "\n",
    "lr = LogisticRegression(random_state=SEED_NUM, max_iter=1000, n_jobs=-1)\n",
    "\n",
    "lr.fit(X_train_processed, y_train)"
   ]
  },
  {
   "cell_type": "code",
   "execution_count": 128,
   "id": "01ec9e1f-f529-4aab-b5f9-74e6040da21d",
   "metadata": {},
   "outputs": [
    {
     "name": "stdout",
     "output_type": "stream",
     "text": [
      "Accuracy:  0.8981796987087518\n",
      "Precision:  0.783446786323006\n",
      "Recall:  0.6670718309685535\n",
      "F1 Score:  0.6909997539543614\n"
     ]
    }
   ],
   "source": [
    "evaluate_classifier(lr, X_train_processed, y_train, print_results=True)"
   ]
  },
  {
   "cell_type": "code",
   "execution_count": 129,
   "id": "7f1582c0-d180-4936-9eeb-a6885015f85f",
   "metadata": {},
   "outputs": [
    {
     "name": "stdout",
     "output_type": "stream",
     "text": [
      "Accuracy:  0.8947156111335216\n",
      "Precision:  0.7382514849081163\n",
      "Recall:  0.6488830613830614\n",
      "F1 Score:  0.6628204601067081\n"
     ]
    }
   ],
   "source": [
    "evaluate_classifier(lr, X_test_processed, y_test, print_results=True)"
   ]
  },
  {
   "cell_type": "markdown",
   "id": "792ca9fe-cc2f-476a-b01f-0272f1af6a75",
   "metadata": {},
   "source": [
    "By using word embeddings with \"shallow\" scikit-learn classifiers we are no longer badly overfitting to the training set, however the performance is not that good. So we will try a deep learning based approach. Word embeddings are commonly used in deep learning after all."
   ]
  },
  {
   "cell_type": "markdown",
   "id": "6c3cd696-d492-4f63-8e89-9dd6fa5e7537",
   "metadata": {},
   "source": [
    "## Word Embeddings with Deep Learning"
   ]
  },
  {
   "cell_type": "markdown",
   "id": "088bd3c4-a3d0-431c-bf7e-1ab9c2ccd0bf",
   "metadata": {},
   "source": [
    "We will be using tensorflow and keras to build our deep learning-based classifier. The process of loading word embeddings into a keras model is a bit involved. It helps to understand the format of the pretrained word embeddings. When you download the GLOVE twitter 200 dimension word embeddings they will be formatted like this:\n",
    "\n",
    "```\n",
    "donut 0.007 0.001 0.006 0.005 0.124 0.1004 ...\n",
    "\n",
    "bob 0.04 0.006 0.03 0.22 0.53 0.001  0.201 ...\n",
    "```\n",
    "\n",
    "In each line there will be a token (word) and then there is a list of floating point values representing the word embeddings themselves. In the case of the GLOVE embeddings we are working with, there are 200 floating point values for each token. The below code block loads the word embeddings into a dictionary.\n",
    "\n",
    "**Note**: Some of the code to load the word embeddings into keras, was adapted from the book [Deep Learning with Python, Second Edition](https://www.manning.com/books/deep-learning-with-python-second-edition)."
   ]
  },
  {
   "cell_type": "code",
   "execution_count": 43,
   "id": "73e19579-7d46-434c-8a1e-24b447d60bb5",
   "metadata": {},
   "outputs": [],
   "source": [
    "# This dictionary will hold the word embeddings\n",
    "embeddings_index = {}\n",
    "\n",
    "# Open the GLOVE embeddings file like a text file\n",
    "with open(GLOVE_TWITTER_EMBEDDINGS_PATH, encoding='utf-8') as f:\n",
    "    # Read each line of the embeddings file\n",
    "    lines = f.readlines()\n",
    "    for line in lines:\n",
    "        # Tokenize the line\n",
    "        values = line.rstrip().rsplit(' ')\n",
    "\n",
    "        # First token is the word\n",
    "        word = values[0]\n",
    "        \n",
    "        # The rest of the tokens are the weights\n",
    "        coefs = np.asarray(values[1:], dtype='float32')\n",
    "\n",
    "        # Add the word as the key and the array of weights as the value\n",
    "        embeddings_index[word] = coefs"
   ]
  },
  {
   "cell_type": "markdown",
   "id": "c9c046f1-d70b-4855-9b12-6e1172acca96",
   "metadata": {},
   "source": [
    "Now that we have the embeddings in a dictionary we can just load it into a keras Layer, but to actually train the model on our data we need to preprocess our text data into a format that keras can work with. The particular neural network architecture that we will be using (a bi-directional LSTM) works well with a sequence of integers, where each integer represents a word in our dataset. This format takes word order into account. The below code uses keras' preprocessing methods to transform our dataset into this format.\n",
    "\n",
    "**NOTE**: The code to preprocess our text data was adapted from this [Kaggle notebook](https://www.kaggle.com/vsmolyakov/keras-cnn-with-fasttext-embeddings)"
   ]
  },
  {
   "cell_type": "code",
   "execution_count": 52,
   "id": "c5de46cf-5172-4d43-8224-f7b0073eafb7",
   "metadata": {},
   "outputs": [],
   "source": [
    "from tensorflow.keras.preprocessing import sequence\n",
    "from tensorflow.keras.preprocessing.text import Tokenizer\n",
    "\n",
    "# Split the dataset into training and test sets\n",
    "X_train, X_test, y_train, y_test = train_test_split(davidson_clean,\n",
    "                                                    davidson['class'],\n",
    "                                                    train_size=0.9,\n",
    "                                                    random_state=SEED_NUM,\n",
    "                                                    stratify=davidson['class'])\n",
    "\n",
    "# Initialize keras tokenizer\n",
    "tokenizer = Tokenizer(lower=True, char_level=False)\n",
    "\n",
    "# Fit the tokenizer\n",
    "tokenizer.fit_on_texts(davidson_clean)\n",
    "\n",
    "# Transform the training and test sets\n",
    "davidson_seq_train = tokenizer.texts_to_sequences(X_train)\n",
    "davidson_seq_test = tokenizer.texts_to_sequences(X_test)\n",
    "\n",
    "# Get the word index produced by the tokenizer\n",
    "word_index = tokenizer.word_index\n",
    "\n",
    "# Make every vector in our training and test sets the same length\n",
    "# by padding them to the left with zeros\n",
    "davidson_seq_train = sequence.pad_sequences(davidson_seq_train)\n",
    "davidson_seq_test = sequence.pad_sequences(davidson_seq_test)"
   ]
  },
  {
   "cell_type": "markdown",
   "id": "88d70659-46d6-43e9-96fa-03057259e228",
   "metadata": {},
   "source": [
    "We will now create an embedding layer from our embeddings dictionary."
   ]
  },
  {
   "cell_type": "code",
   "execution_count": 53,
   "id": "90b052fc-2a68-487c-bb7c-d4c2ea862c7c",
   "metadata": {},
   "outputs": [],
   "source": [
    "# Create empty matrix to be loaded with embeddings\n",
    "embedding_matrix = np.zeros((len(word_index) + 1, 200))\n",
    "\n",
    "# Fill the matrix with embeddings for each word in the word index\n",
    "for word, i in word_index.items():\n",
    "    # Get the embeddings for the word\n",
    "    embedding_vector = embeddings_index.get(word)\n",
    "    \n",
    "    # Add the embedding to the matrix if it exists\n",
    "    if embedding_vector is not None and len(embedding_vector) > 0:\n",
    "        embedding_matrix[i] = embedding_vector"
   ]
  },
  {
   "cell_type": "code",
   "execution_count": 93,
   "id": "b692925c-44dd-4dfd-ac5b-7cca74971176",
   "metadata": {},
   "outputs": [],
   "source": [
    "# Save the embedding matrix\n",
    "np.save('./models/embeddings/glove_200_embedding_matrix.npy', embedding_matrix)"
   ]
  },
  {
   "cell_type": "code",
   "execution_count": 94,
   "id": "4a944a4c-752d-4b4e-86e5-4131141181ab",
   "metadata": {},
   "outputs": [],
   "source": [
    "# Load the embedding matrix\n",
    "embedding_matrix = np.load('./models/embeddings/glove_200_embedding_matrix.npy')"
   ]
  },
  {
   "cell_type": "code",
   "execution_count": 55,
   "id": "23e57a96-c671-4a19-bfcb-ea1a9c90c82d",
   "metadata": {},
   "outputs": [],
   "source": [
    "from tensorflow.keras import initializers, layers\n",
    "\n",
    "# Create the Embedding layer in keras\n",
    "embedding_layer = layers.Embedding(len(word_index) + 1,\n",
    "                                   200,\n",
    "                                   embeddings_initializer=initializers.Constant(embedding_matrix),\n",
    "                                   trainable=False,\n",
    "                                   mask_zero=True)"
   ]
  },
  {
   "cell_type": "markdown",
   "id": "8d9c5eb0-efc4-4e89-b668-a062ec98de94",
   "metadata": {},
   "source": [
    "We now have to build a model in keras. I have tried out some different architectures for this problem and I got the best results with a 2 stack of bi-directional LSTM layers with 64 hidden units and a dropout of 0.2. The code to build and train such a model is very straightforward.\n",
    "\n",
    "**Note**: I did not include my experiments with different architectures because I do not want this notebook to be too long"
   ]
  },
  {
   "cell_type": "code",
   "execution_count": 116,
   "id": "d745739a-45e8-4ccb-95f1-5497ff68199e",
   "metadata": {},
   "outputs": [],
   "source": [
    "from tensorflow.keras import Input, Model\n",
    "\n",
    "inputs = Input(shape=(None,), dtype=\"int64\") # Input layer (this will be an array of integers)\n",
    "embedded = embedding_layer(inputs) # Embedding layer\n",
    "lstm_1 = layers.Bidirectional(layers.LSTM(64, return_sequences=True))(embedded) # 1st LSTM layer\n",
    "lstm_1 = layers.Dropout(0.2)(lstm_1) # Dropout layer for regularization\n",
    "lstm_2 = layers.Bidirectional(layers.LSTM(64))(lstm_1) # 2nd LSTM layer\n",
    "lstm_2 = layers.Dropout(0.2)(lstm_2) # Dropout layer for regularization\n",
    "outputs = layers.Dense(3, activation=\"softmax\")(lstm_2) # Output layer\n",
    "lstm_model = Model(inputs, outputs) # Define our model\n",
    "\n",
    "# Set the optimizer, loss function, and metrics\n",
    "lstm_model.compile(optimizer=\"adam\",\n",
    "                   loss=\"categorical_crossentropy\",\n",
    "                   metrics=[\"accuracy\"])"
   ]
  },
  {
   "cell_type": "code",
   "execution_count": 117,
   "id": "62f4af2f-867c-4a9f-9a2b-d388fb288596",
   "metadata": {},
   "outputs": [],
   "source": [
    "from tensorflow.keras.utils import to_categorical\n",
    "\n",
    "# The LSTM layer expects our labels to be one hot encoded\n",
    "# so we will encode them with this keras function\n",
    "y_train_cat = to_categorical(y_train, 3)\n",
    "y_test_cat = to_categorical(y_test, 3)"
   ]
  },
  {
   "cell_type": "markdown",
   "id": "abe767fa-ec38-42ec-9a0d-5434566eb1e5",
   "metadata": {},
   "source": [
    "It is now time to train our model. During training we can also use part of our training set as a validation set, and we can also tell keras to stop training if the score on the validation set is not improving."
   ]
  },
  {
   "cell_type": "code",
   "execution_count": 118,
   "id": "617f2dd9-a103-43df-8eab-a554781b1914",
   "metadata": {},
   "outputs": [
    {
     "name": "stdout",
     "output_type": "stream",
     "text": [
      "Epoch 1/50\n",
      "628/628 [==============================] - 266s 407ms/step - loss: 0.3269 - accuracy: 0.8859 - val_loss: 0.2881 - val_accuracy: 0.8915\n",
      "Epoch 2/50\n",
      "628/628 [==============================] - 253s 403ms/step - loss: 0.2477 - accuracy: 0.9121 - val_loss: 0.2683 - val_accuracy: 0.8974\n",
      "Epoch 3/50\n",
      "628/628 [==============================] - 250s 398ms/step - loss: 0.2228 - accuracy: 0.9190 - val_loss: 0.2802 - val_accuracy: 0.9023\n",
      "Epoch 4/50\n",
      "628/628 [==============================] - 253s 402ms/step - loss: 0.1999 - accuracy: 0.9267 - val_loss: 0.2821 - val_accuracy: 0.9005\n"
     ]
    },
    {
     "data": {
      "text/plain": [
       "<keras.callbacks.History at 0x27003474460>"
      ]
     },
     "execution_count": 118,
     "metadata": {},
     "output_type": "execute_result"
    }
   ],
   "source": [
    "from tensorflow.keras.callbacks import EarlyStopping\n",
    "\n",
    "lstm_model.fit(davidson_seq_train,\n",
    "               y_train_cat,\n",
    "               validation_split=0.1,\n",
    "               epochs=50,\n",
    "               callbacks=EarlyStopping(patience=2, restore_best_weights=True))"
   ]
  },
  {
   "cell_type": "markdown",
   "id": "1c0b3028-f983-4369-b86b-6589ee421595",
   "metadata": {},
   "source": [
    "Because this model seems to overfit really quickly lets retrain the model for only 3 epochs on the full training set (without splitting it for validation) and evaluate it on the test set."
   ]
  },
  {
   "cell_type": "code",
   "execution_count": 119,
   "id": "624d97b7-dddb-4a4a-8881-e27130856895",
   "metadata": {},
   "outputs": [
    {
     "name": "stdout",
     "output_type": "stream",
     "text": [
      "Epoch 1/3\n",
      "697/697 [==============================] - 147s 200ms/step - loss: 0.3255 - accuracy: 0.8863\n",
      "Epoch 2/3\n",
      "697/697 [==============================] - 139s 200ms/step - loss: 0.2508 - accuracy: 0.9095\n",
      "Epoch 3/3\n",
      "697/697 [==============================] - 140s 200ms/step - loss: 0.2264 - accuracy: 0.9184 - loss: 0.2261 - accuracy: 0. - ETA: 0s - loss: 0.2260 - accuracy: \n"
     ]
    },
    {
     "data": {
      "text/plain": [
       "<keras.callbacks.History at 0x2709d22fc40>"
      ]
     },
     "execution_count": 119,
     "metadata": {},
     "output_type": "execute_result"
    }
   ],
   "source": [
    "# We have to define the model again to reset the weights of each layer\n",
    "# and be able to train from scratch\n",
    "inputs = Input(shape=(None,), dtype=\"int64\")\n",
    "embedded = embedding_layer(inputs)\n",
    "lstm_1 = layers.Bidirectional(layers.LSTM(64, return_sequences=True))(embedded)\n",
    "lstm_1 = layers.Dropout(0.2)(lstm_1)\n",
    "lstm_2 = layers.Bidirectional(layers.LSTM(64))(lstm_1)\n",
    "lstm_2 = layers.Dropout(0.2)(lstm_2)\n",
    "outputs = layers.Dense(3, activation=\"softmax\")(lstm_2)\n",
    "lstm_model = Model(inputs, outputs)\n",
    "lstm_model.compile(optimizer=\"adam\",\n",
    "                   loss=\"categorical_crossentropy\",\n",
    "                   metrics=[\"accuracy\"])\n",
    "\n",
    "lstm_model.fit(\n",
    "    davidson_seq_train,\n",
    "    y_train_cat,\n",
    "    epochs=3,\n",
    ")"
   ]
  },
  {
   "cell_type": "markdown",
   "id": "26af9499-f63a-4cb4-ad46-2706da919ea4",
   "metadata": {},
   "source": [
    "We need to modify our evaluate_classifier function slightly because keras classifiers output probabilities for each class instead of the class with the highest probability."
   ]
  },
  {
   "cell_type": "code",
   "execution_count": 123,
   "id": "97a3f881-8eed-4967-b267-615826e0ed87",
   "metadata": {
    "tags": []
   },
   "outputs": [],
   "source": [
    "def evaluate_keras_classifier(keras_classifier, X, true_vals, print_results=True, averaging_strategy='macro'):\n",
    "    \"\"\"\n",
    "    Computes several metrics to evaluate the performance of a keras classifier\n",
    "    The metrics calculated are [Accuracy, Precision, Recall, F1 Score]\n",
    "\n",
    "    Parameters\n",
    "    ----------\n",
    "    keras_classifier : keras classifier\n",
    "        The classifier used to generate predictions on the test set\n",
    "        \n",
    "    X : numpy array or pandas DataFrame\n",
    "        The test set\n",
    "        \n",
    "    y : numpy array or pandas Series\n",
    "        The labels for the test set\n",
    "        \n",
    "    print_results : bool, optional\n",
    "        Whether to print the metrics calculated \n",
    "        or to return them as a tuple, by default True\n",
    "        \n",
    "    averaging_strategy : str, optional\n",
    "        What averaging strategy to use for \n",
    "        multi-class problems, by default \"macro\"\n",
    "\n",
    "    Returns\n",
    "    -------\n",
    "    None or tuple\n",
    "        Returns nothing if print_results is True,\n",
    "        else returns a tuple of the metrics calculated\n",
    "    \"\"\"\n",
    "    preds = np.argmax(keras_classifier.predict(X), axis=1)\n",
    "\n",
    "    accuracy = accuracy_score(true_vals, preds)\n",
    "    precision = precision_score(true_vals, preds, average=averaging_strategy)\n",
    "    recall = recall_score(true_vals, preds, average=averaging_strategy)\n",
    "    f1 = f1_score(true_vals, preds, average=averaging_strategy)\n",
    "\n",
    "    if print_results:\n",
    "        print(\"Accuracy: \", accuracy)\n",
    "        print(\"Precision: \", precision)\n",
    "        print(\"Recall: \", recall)\n",
    "        print(\"F1 Score: \", f1)\n",
    "    else:\n",
    "        return accuracy, precision, recall, f1"
   ]
  },
  {
   "cell_type": "code",
   "execution_count": 124,
   "id": "ab4db03c-b98d-4d43-a74a-c8cfa70a3ff2",
   "metadata": {},
   "outputs": [
    {
     "name": "stdout",
     "output_type": "stream",
     "text": [
      "Accuracy:  0.9213392496974586\n",
      "Precision:  0.8054834688494052\n",
      "Recall:  0.7544058372183372\n",
      "F1 Score:  0.7708874604793875\n"
     ]
    }
   ],
   "source": [
    "evaluate_keras_classifier(lstm_model,\n",
    "                          davidson_seq_test,\n",
    "                          y_test,\n",
    "                          print_results=True)"
   ]
  },
  {
   "cell_type": "markdown",
   "id": "dd8eb449-8e01-4097-a73b-742e74ac9a04",
   "metadata": {},
   "source": [
    "This is a significant improvement over our best scikit-learn classifier. Let us now save our model and move on to the next section."
   ]
  },
  {
   "cell_type": "code",
   "execution_count": 125,
   "id": "c6de5730-9ed5-4b02-a90c-058e5f07e52e",
   "metadata": {},
   "outputs": [],
   "source": [
    "lstm_model.save('./models/lstm_model.keras')"
   ]
  },
  {
   "cell_type": "markdown",
   "id": "b96bd523-f8f0-47ef-a894-6443a2bab02f",
   "metadata": {},
   "source": [
    "## Evaluation\n",
    "\n"
   ]
  },
  {
   "cell_type": "markdown",
   "id": "686641ec-bbb6-4682-b5f3-868b17fa5fb9",
   "metadata": {},
   "source": [
    "Let's take a closer look at how our model performs and what mistakes it makes. A confusion matrix can help us visualize our model's performance on a test set so lets create one with scikit-learn and visualize it with seaborn."
   ]
  },
  {
   "cell_type": "code",
   "execution_count": 126,
   "id": "408916e7-a424-4f47-aaa5-39b3cec5bcf9",
   "metadata": {},
   "outputs": [],
   "source": [
    "from tensorflow.keras.models import load_model as load_keras_model\n",
    "\n",
    "# Load our keras model\n",
    "lstm_model = load_keras_model('./models/lstm_model.keras')"
   ]
  },
  {
   "cell_type": "code",
   "execution_count": 127,
   "id": "2bff40e6-7d03-4a97-86a9-00615e5bc3c5",
   "metadata": {},
   "outputs": [],
   "source": [
    "from sklearn.metrics import confusion_matrix\n",
    "\n",
    "# Make predictions on the test set\n",
    "preds = np.argmax(lstm_model.predict(davidson_seq_test), axis=1)\n",
    "\n",
    "# Create a confusion matrix\n",
    "# This will just be a numpy matrix that we will visualize later\n",
    "cm = confusion_matrix(y_test, preds)"
   ]
  },
  {
   "cell_type": "code",
   "execution_count": 128,
   "id": "aa3753f5-69cc-415a-bfa6-2930b285e4a5",
   "metadata": {},
   "outputs": [
    {
     "data": {
      "image/png": "[encoded data removed]",
      "text/plain": [
       "<Figure size 864x720 with 1 Axes>"
      ]
     },
     "metadata": {
      "needs_background": "light"
     },
     "output_type": "display_data"
    }
   ],
   "source": [
    "import seaborn as sns\n",
    "\n",
    "# Make our plot bigger\n",
    "plt.figure(figsize=(12, 10))\n",
    "\n",
    "# Class names\n",
    "tick_labels = ['Hate Speech', 'Offensive Content', 'Neither']\n",
    "\n",
    "# Use seaborn's heatmap to plot our confusion matrix\n",
    "ax = sns.heatmap(cm,\n",
    "                 annot=True,\n",
    "                 annot_kws={'fontsize': 16},\n",
    "                 fmt='',\n",
    "                 xticklabels=tick_labels,\n",
    "                 yticklabels=tick_labels,\n",
    "                 cmap=sns.color_palette(\"magma_r\", as_cmap=True),\n",
    "                 cbar=False,\n",
    "                )\n",
    "\n",
    "# Label our graph\n",
    "ax.set_title('Hateful Content Classifier Confusion Matrix', fontsize=22)\n",
    "ax.set_xlabel('Predicted Label', fontsize=20)\n",
    "ax.set_ylabel('True Label', fontsize=20)\n",
    "ax.tick_params(labelsize=16)"
   ]
  },
  {
   "cell_type": "markdown",
   "id": "6a3577f1-fa8d-4149-b8dc-28cf5b6c11fd",
   "metadata": {},
   "source": [
    "This is pretty helpful since it shows us where our model struggles. Our model performs poorly when classifying hate speech. In particular it seems to classify hate speech as offensive content more often than it does classify it as hate speech. The authors of this dataset built their own classifier that is described in the paper that accompanied the dataset, and in that paper their classifier also struggles with classifying hate speech.\n",
    "\n",
    "Let us try to get concrete numbers on how our model performs on classifying hate speech. We can get precision, recall, and f1 scores for each class by setting the averaging strategy to None. This will give us an array of scores for each class. They will be in this format:\n",
    "\n",
    "`['hate' score, 'offensive' score, 'neither' score]`"
   ]
  },
  {
   "cell_type": "code",
   "execution_count": 129,
   "id": "f367cd93-d0f0-43ef-aace-913832f1058a",
   "metadata": {},
   "outputs": [],
   "source": [
    "# Get the scores for each class by setting averaging strategy to None\n",
    "accuracy, precision_scores, recall_scores, f1_scores = evaluate_keras_classifier(lstm_model,\n",
    "                                                                                 davidson_seq_test,\n",
    "                                                                                 y_test,\n",
    "                                                                                 print_results=False,\n",
    "                                                                                 averaging_strategy=None)"
   ]
  },
  {
   "cell_type": "code",
   "execution_count": 130,
   "id": "b5e13209-48fb-423e-a129-2df0b79d83e9",
   "metadata": {},
   "outputs": [
    {
     "data": {
      "text/plain": [
       "0.9213392496974586"
      ]
     },
     "execution_count": 130,
     "metadata": {},
     "output_type": "execute_result"
    }
   ],
   "source": [
    "accuracy"
   ]
  },
  {
   "cell_type": "markdown",
   "id": "60255360-97da-4884-99f4-94781cfa91fd",
   "metadata": {},
   "source": [
    "We get a high accuracy but we are not relying on accuracy as a useful metric for this dataset."
   ]
  },
  {
   "cell_type": "code",
   "execution_count": 131,
   "id": "99818cea-eaf8-4072-965b-b9a4213f955e",
   "metadata": {},
   "outputs": [
    {
     "data": {
      "text/plain": [
       "array([0.59550562, 0.94707091, 0.87387387])"
      ]
     },
     "execution_count": 131,
     "metadata": {},
     "output_type": "execute_result"
    }
   ],
   "source": [
    "precision_scores"
   ]
  },
  {
   "cell_type": "code",
   "execution_count": 132,
   "id": "b2c7cec1-20c8-4822-a6b5-5042987ea9e8",
   "metadata": {},
   "outputs": [
    {
     "data": {
      "text/plain": [
       "array([0.37062937, 0.95989583, 0.93269231])"
      ]
     },
     "execution_count": 132,
     "metadata": {},
     "output_type": "execute_result"
    }
   ],
   "source": [
    "recall_scores"
   ]
  },
  {
   "cell_type": "code",
   "execution_count": 133,
   "id": "b98b912f-b59e-4b4b-a23c-f438e9b7f828",
   "metadata": {},
   "outputs": [
    {
     "data": {
      "text/plain": [
       "array([0.45689655, 0.95344025, 0.90232558])"
      ]
     },
     "execution_count": 133,
     "metadata": {},
     "output_type": "execute_result"
    }
   ],
   "source": [
    "f1_scores"
   ]
  },
  {
   "cell_type": "markdown",
   "id": "84d21685-8361-4954-8da7-a5c36fb87cb3",
   "metadata": {},
   "source": [
    "The precision and recall scores for the hate class are far lower than the scores for the 'offensive' and 'neither' classes. This is similar to what the researchers experienced with their classifier, except that in their classifier the recall was higher than precision. With our classifier the opposite is true. For this problem recall is more important than precision. The f1 score of the hate class is similarly poor in comparison to the other classes.\n",
    "\n",
    "For reference these are the scores of Davidson et al.'s classifier on the 'hate' class compared to mine:\n",
    "\n",
    "| Metric    | Davidson Classifier | My Classifier   |\n",
    "| --------- | -------- | ---- |\n",
    "| Precision | 0.44     | 0.60 |\n",
    "| Recall    | 0.61     | 0.37 |\n",
    "| F1 Score  | 0.51     | 0.46 |\n",
    "\n"
   ]
  },
  {
   "cell_type": "markdown",
   "id": "f0ce502c-ee30-4409-a090-b56cb838f9f4",
   "metadata": {},
   "source": [
    "So why are the scores on the hate class low? Well there are two reasons:\n",
    "\n",
    "First, there is not much hate speech data in this dataset. As we saw in the beginning of this notebook the hate speech class only makes up 6% of this dataset. So one possibility is that our model did not have enough data to learn what hate speech actually is. Another possibility is simply the nature of this problem. Hate speech is not a very well-defined concept, something that is considered hateful to somebody might not be to somebody else, which creates this ambiguity that does not translate well to machine learning models.\n",
    "\n",
    "So after all this work how do we know if our model is any good? If we wanted to sum it up with one metric we can look at the weighted F1 score of our model's predictions on the test set. Remember, the `weighted` averaging strategy takes into account class imbalance."
   ]
  },
  {
   "cell_type": "code",
   "execution_count": 134,
   "id": "92e9eed0-d31f-4817-ab0b-359337696f95",
   "metadata": {},
   "outputs": [
    {
     "name": "stdout",
     "output_type": "stream",
     "text": [
      "Accuracy:  0.9213392496974586\n",
      "Precision:  0.9145078624930217\n",
      "Recall:  0.9213392496974586\n",
      "F1 Score:  0.9162198166715908\n"
     ]
    }
   ],
   "source": [
    "evaluate_keras_classifier(lstm_model,\n",
    "                          davidson_seq_test,\n",
    "                          y_test,\n",
    "                          averaging_strategy='weighted')"
   ]
  },
  {
   "cell_type": "markdown",
   "id": "bfb51d1c-6a43-45b6-9772-ad0d117b9fa1",
   "metadata": {},
   "source": [
    "We end up with a pretty good score on this dataset, but of course there is always room for improvement."
   ]
  },
  {
   "cell_type": "markdown",
   "id": "34381527-4783-4cea-910b-9de632fc3207",
   "metadata": {},
   "source": [
    "## Conclusion"
   ]
  },
  {
   "cell_type": "markdown",
   "id": "4fcd09eb-3c11-40b2-b7c5-2974faef36b6",
   "metadata": {},
   "source": [
    "Overall, I am quite pleased with the classifier that I built in this notebook. I wanted to also try to train a classifier on a foreign language hate speech dataset but I did not have time to do so. Classifiers like this one are being used to enforce the terms of service of a community or social media website, and there is a need to improve them, particularly for languages other than English. The techniques used in this notebook are not domain specific and can be applied to any text classification task like spam detection, article categorization, sentiment analysis, and fake news detection.\n",
    "\n",
    "I cannot imagine building a classifier like this in another language, not because of any language-specific features that python has but because of the large amount of open-source libraries available for machine learning and natural language processing. The Jupyter notebook environment made the process of building this classifier a lot easier due to the interactive nature of it. I have looked at both shallow and deep learning models, and have used different methods to represent the text data, but I have not used state of the art transformer architectures like BERT, mostly because I do not understand them well enough. These state of the art methods have received a lot of attention recently for their performance on benchmark tasks so I wouldn't be surprised if they do well on this particular dataset."
   ]
  },
  {
   "cell_type": "markdown",
   "id": "97ebd60b-b58b-4814-a045-0b28ebd69d5b",
   "metadata": {
    "jp-MarkdownHeadingCollapsed": true,
    "tags": []
   },
   "source": [
    "### References\n",
    "\n",
    "\n",
    "1. https://www.pewresearch.org/internet/2021/01/13/the-state-of-online-harassment/\n",
    "\n",
    "2. https://www.statista.com/statistics/264810/number-of-monthly-active-facebook-users-worldwide/\n",
    "\n",
    "3. https://www.forbes.com/sites/johnkoetsier/2020/06/09/300000-facebook-content-moderation-mistakes-daily-report-says/?sh=2e15774d54d0\n",
    "\n",
    "4. https://www.forbes.com/sites/traversmark/2020/03/21/facebook-spreads-fake-news-faster-than-any-other-social-website-according-to-new-research/\n",
    "\n",
    "5. https://hate-alert.github.io/\n",
    "\n",
    "6. https://apnews.com/article/technology-business-middle-east-religion-europe-a38da3ccd40ffae7e4caa450c374f796"
   ]
  }
 ],
 "metadata": {
  "kernelspec": {
   "display_name": "Python [conda env:nlp-mid] *",
   "language": "python",
   "name": "conda-env-nlp-mid-py"
  },
  "language_info": {
   "codemirror_mode": {
    "name": "ipython",
    "version": 3
   },
   "file_extension": ".py",
   "mimetype": "text/x-python",
   "name": "python",
   "nbconvert_exporter": "python",
   "pygments_lexer": "ipython3",
   "version": "3.9.7"
  }
 },
 "nbformat": 4,
 "nbformat_minor": 5
}

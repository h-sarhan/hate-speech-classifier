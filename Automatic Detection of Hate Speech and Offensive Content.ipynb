{
 "cells": [
  {
   "cell_type": "markdown",
   "id": "1698331d",
   "metadata": {},
   "source": [
    "# Automatic Detection of Hateful Content"
   ]
  }
 ],
 "metadata": {
  "kernelspec": {
   "display_name": "Python [conda env:nlp-mid] *",
   "language": "python",
   "name": "conda-env-nlp-mid-py"
  },
  "language_info": {
   "codemirror_mode": {
    "name": "ipython",
    "version": 3
   },
   "file_extension": ".py",
   "mimetype": "text/x-python",
   "name": "python",
   "nbconvert_exporter": "python",
   "pygments_lexer": "ipython3",
   "version": "3.9.7"
  }
 },
 "nbformat": 4,
 "nbformat_minor": 5
}

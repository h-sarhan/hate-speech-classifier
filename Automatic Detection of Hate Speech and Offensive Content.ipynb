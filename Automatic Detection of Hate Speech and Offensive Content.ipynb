{
 "cells": [
  {
   "cell_type": "markdown",
   "id": "1698331d",
   "metadata": {},
   "source": [
    "# Automatic Detection of Hate Speech and Offensive Content"
   ]
  },
  {
   "cell_type": "markdown",
   "id": "617af697-bd42-4b12-a5e0-6a8116fb3cc5",
   "metadata": {},
   "source": [
    "### References\n",
    "\n",
    "1. https://womensmediacenter.com/speech-project/research-statistics\n",
    "\n",
    "2. https://www.pewresearch.org/internet/2021/01/13/the-state-of-online-harassment/\n",
    "\n",
    "3. https://www.statista.com/statistics/264810/number-of-monthly-active-facebook-users-worldwide/\n",
    "\n",
    "4. https://www.forbes.com/sites/johnkoetsier/2020/06/09/300000-facebook-content-moderation-mistakes-daily-report-says/?sh=2e15774d54d0\n",
    "\n",
    "5. https://www.forbes.com/sites/traversmark/2020/03/21/facebook-spreads-fake-news-faster-than-any-other-social-website-according-to-new-research/"
   ]
  },
  {
   "cell_type": "markdown",
   "id": "942d4498-223b-45f4-8f71-99cef630ecc2",
   "metadata": {
    "tags": []
   },
   "source": [
    "## Introduction "
   ]
  },
  {
   "cell_type": "markdown",
   "id": "1f7ea59d-ab70-444f-808a-e842eb060bd9",
   "metadata": {
    "tags": []
   },
   "source": [
    "In this assignment I will go through the steps of building a classifier that can detect hateful content, and after that I will give a practical demonstration of how this model can be used on real world data.\n",
    "\n",
    "One of the reasons I chose to work on this topic is because I feel there is not enough being done to curb the rampant online harassment that people have to deal with on social media. Hate speech, racial slurs, offensive content, threats of violence, and unwanted sexual comments are against the terms of service of all major social media websites, and yet for some people they are as common as cat gifs. \n",
    "\n",
    "Some reasons why people get harassed online are because of their gender, race, sexual orientation, or political views. Of course, none of these are good reasons as to why you should be hostile towards someone, but many people do not realize this. The majority of online harassment occurs on social media websites [$^{citation}$](), so the responsibility falls on these large tech companies to look after their users' safety and wellbeing. Unfortunately, these companies are not doing enough.\n",
    "\n",
    "Let's look at how Facebook moderates its content. Most of Facebook's content moderation team does not work directly for Facebook as they are outsourced, and there are not that many of them. [$^{citation}$]() Facebook uses a hybrid system to moderate their content. Content is input into an A.I. model and will be flagged for review if the model detects any content violating the platform's terms of service. (Users can also flag content for review) This model does prevent a lot of harmful content from being seen, but it clearly could be implemented better based on the amount of users experiencing harassment on the platform. This model is also used to filter spam, fake news, and adult content, but of course this type of content is still very common on Facebook. [$^{citation}$]() Given the low number of human moderators, only 15,000 for over 2.9 billion monthly active users, [$^{citation}$]() [$^{citation}$]() there is a huge burden on Facebook's classifier to correctly flag objectionable content.\n",
    "\n",
    "This type of classifier can also of course be used by any website that hosts a significant amount of user-generated content. So it is of great importance to any type of social media website. The techniques shown here can be used to build a classifier that can detect spam, fake news, or explicit sexual content, provided you have appropriate dataset of course."
   ]
  },
  {
   "cell_type": "code",
   "execution_count": null,
   "id": "ac7d2486-9c7e-46d2-9a3c-9e3f9861dbc0",
   "metadata": {},
   "outputs": [],
   "source": []
  },
  {
   "cell_type": "code",
   "execution_count": null,
   "id": "0a57bd28-72bd-492f-87a6-02c3436f1fa8",
   "metadata": {},
   "outputs": [],
   "source": []
  },
  {
   "cell_type": "code",
   "execution_count": null,
   "id": "4729856f-43c8-4ae1-9b23-7caac0fd17a8",
   "metadata": {},
   "outputs": [],
   "source": []
  },
  {
   "cell_type": "code",
   "execution_count": null,
   "id": "00a8dba6-c5e0-4247-a405-2f8ddbb15497",
   "metadata": {},
   "outputs": [],
   "source": []
  },
  {
   "cell_type": "code",
   "execution_count": null,
   "id": "1dbe785a-4784-4ed7-a5cb-63d9f369b3b3",
   "metadata": {},
   "outputs": [],
   "source": []
  },
  {
   "cell_type": "code",
   "execution_count": null,
   "id": "10b538a9-d7a7-4be8-b2aa-6e996c1deb7b",
   "metadata": {},
   "outputs": [],
   "source": []
  },
  {
   "cell_type": "code",
   "execution_count": 52,
   "id": "396c13c8-0060-46dc-84d4-cfa5bb67420c",
   "metadata": {},
   "outputs": [],
   "source": [
    "import neattext as nt\n",
    "import pandas as pd\n",
    "from nltk.tokenize import TweetTokenizer\n",
    "from sklearn.feature_extraction.text import CountVectorizer, TfidfVectorizer\n",
    "\n",
    "JIGSAW_DATA_PATH = ''\n",
    "DYNABENCH_DATA_PATH = ''"
   ]
  },
  {
   "cell_type": "code",
   "execution_count": 5,
   "id": "92b19944-307f-493c-8b59-865aea897e0b",
   "metadata": {},
   "outputs": [],
   "source": [
    "jigsaw_data = pd.read_csv(\n",
    "    './data/jigsaw-toxic-comment-classification-challenge/train.csv')"
   ]
  },
  {
   "cell_type": "code",
   "execution_count": 6,
   "id": "9dd9a158-f431-4452-a347-39d1b4e8a207",
   "metadata": {},
   "outputs": [
    {
     "data": {
      "text/html": [
       "<div>\n",
       "<style scoped>\n",
       "    .dataframe tbody tr th:only-of-type {\n",
       "        vertical-align: middle;\n",
       "    }\n",
       "\n",
       "    .dataframe tbody tr th {\n",
       "        vertical-align: top;\n",
       "    }\n",
       "\n",
       "    .dataframe thead th {\n",
       "        text-align: right;\n",
       "    }\n",
       "</style>\n",
       "<table border=\"1\" class=\"dataframe\">\n",
       "  <thead>\n",
       "    <tr style=\"text-align: right;\">\n",
       "      <th></th>\n",
       "      <th>id</th>\n",
       "      <th>comment_text</th>\n",
       "      <th>toxic</th>\n",
       "      <th>severe_toxic</th>\n",
       "      <th>obscene</th>\n",
       "      <th>threat</th>\n",
       "      <th>insult</th>\n",
       "      <th>identity_hate</th>\n",
       "    </tr>\n",
       "  </thead>\n",
       "  <tbody>\n",
       "    <tr>\n",
       "      <th>0</th>\n",
       "      <td>0000997932d777bf</td>\n",
       "      <td>Explanation\\nWhy the edits made under my usern...</td>\n",
       "      <td>0</td>\n",
       "      <td>0</td>\n",
       "      <td>0</td>\n",
       "      <td>0</td>\n",
       "      <td>0</td>\n",
       "      <td>0</td>\n",
       "    </tr>\n",
       "    <tr>\n",
       "      <th>1</th>\n",
       "      <td>000103f0d9cfb60f</td>\n",
       "      <td>D'aww! He matches this background colour I'm s...</td>\n",
       "      <td>0</td>\n",
       "      <td>0</td>\n",
       "      <td>0</td>\n",
       "      <td>0</td>\n",
       "      <td>0</td>\n",
       "      <td>0</td>\n",
       "    </tr>\n",
       "    <tr>\n",
       "      <th>2</th>\n",
       "      <td>000113f07ec002fd</td>\n",
       "      <td>Hey man, I'm really not trying to edit war. It...</td>\n",
       "      <td>0</td>\n",
       "      <td>0</td>\n",
       "      <td>0</td>\n",
       "      <td>0</td>\n",
       "      <td>0</td>\n",
       "      <td>0</td>\n",
       "    </tr>\n",
       "    <tr>\n",
       "      <th>3</th>\n",
       "      <td>0001b41b1c6bb37e</td>\n",
       "      <td>\"\\nMore\\nI can't make any real suggestions on ...</td>\n",
       "      <td>0</td>\n",
       "      <td>0</td>\n",
       "      <td>0</td>\n",
       "      <td>0</td>\n",
       "      <td>0</td>\n",
       "      <td>0</td>\n",
       "    </tr>\n",
       "    <tr>\n",
       "      <th>4</th>\n",
       "      <td>0001d958c54c6e35</td>\n",
       "      <td>You, sir, are my hero. Any chance you remember...</td>\n",
       "      <td>0</td>\n",
       "      <td>0</td>\n",
       "      <td>0</td>\n",
       "      <td>0</td>\n",
       "      <td>0</td>\n",
       "      <td>0</td>\n",
       "    </tr>\n",
       "    <tr>\n",
       "      <th>5</th>\n",
       "      <td>00025465d4725e87</td>\n",
       "      <td>\"\\n\\nCongratulations from me as well, use the ...</td>\n",
       "      <td>0</td>\n",
       "      <td>0</td>\n",
       "      <td>0</td>\n",
       "      <td>0</td>\n",
       "      <td>0</td>\n",
       "      <td>0</td>\n",
       "    </tr>\n",
       "    <tr>\n",
       "      <th>6</th>\n",
       "      <td>0002bcb3da6cb337</td>\n",
       "      <td>COCKSUCKER BEFORE YOU PISS AROUND ON MY WORK</td>\n",
       "      <td>1</td>\n",
       "      <td>1</td>\n",
       "      <td>1</td>\n",
       "      <td>0</td>\n",
       "      <td>1</td>\n",
       "      <td>0</td>\n",
       "    </tr>\n",
       "    <tr>\n",
       "      <th>7</th>\n",
       "      <td>00031b1e95af7921</td>\n",
       "      <td>Your vandalism to the Matt Shirvington article...</td>\n",
       "      <td>0</td>\n",
       "      <td>0</td>\n",
       "      <td>0</td>\n",
       "      <td>0</td>\n",
       "      <td>0</td>\n",
       "      <td>0</td>\n",
       "    </tr>\n",
       "    <tr>\n",
       "      <th>8</th>\n",
       "      <td>00037261f536c51d</td>\n",
       "      <td>Sorry if the word 'nonsense' was offensive to ...</td>\n",
       "      <td>0</td>\n",
       "      <td>0</td>\n",
       "      <td>0</td>\n",
       "      <td>0</td>\n",
       "      <td>0</td>\n",
       "      <td>0</td>\n",
       "    </tr>\n",
       "    <tr>\n",
       "      <th>9</th>\n",
       "      <td>00040093b2687caa</td>\n",
       "      <td>alignment on this subject and which are contra...</td>\n",
       "      <td>0</td>\n",
       "      <td>0</td>\n",
       "      <td>0</td>\n",
       "      <td>0</td>\n",
       "      <td>0</td>\n",
       "      <td>0</td>\n",
       "    </tr>\n",
       "  </tbody>\n",
       "</table>\n",
       "</div>"
      ],
      "text/plain": [
       "                 id                                       comment_text  toxic  \\\n",
       "0  0000997932d777bf  Explanation\\nWhy the edits made under my usern...      0   \n",
       "1  000103f0d9cfb60f  D'aww! He matches this background colour I'm s...      0   \n",
       "2  000113f07ec002fd  Hey man, I'm really not trying to edit war. It...      0   \n",
       "3  0001b41b1c6bb37e  \"\\nMore\\nI can't make any real suggestions on ...      0   \n",
       "4  0001d958c54c6e35  You, sir, are my hero. Any chance you remember...      0   \n",
       "5  00025465d4725e87  \"\\n\\nCongratulations from me as well, use the ...      0   \n",
       "6  0002bcb3da6cb337       COCKSUCKER BEFORE YOU PISS AROUND ON MY WORK      1   \n",
       "7  00031b1e95af7921  Your vandalism to the Matt Shirvington article...      0   \n",
       "8  00037261f536c51d  Sorry if the word 'nonsense' was offensive to ...      0   \n",
       "9  00040093b2687caa  alignment on this subject and which are contra...      0   \n",
       "\n",
       "   severe_toxic  obscene  threat  insult  identity_hate  \n",
       "0             0        0       0       0              0  \n",
       "1             0        0       0       0              0  \n",
       "2             0        0       0       0              0  \n",
       "3             0        0       0       0              0  \n",
       "4             0        0       0       0              0  \n",
       "5             0        0       0       0              0  \n",
       "6             1        1       0       1              0  \n",
       "7             0        0       0       0              0  \n",
       "8             0        0       0       0              0  \n",
       "9             0        0       0       0              0  "
      ]
     },
     "execution_count": 6,
     "metadata": {},
     "output_type": "execute_result"
    }
   ],
   "source": [
    "jigsaw_data.head(10)"
   ]
  },
  {
   "cell_type": "code",
   "execution_count": 89,
   "id": "e513f79a-d0f3-4347-abf3-780c5cfc9e45",
   "metadata": {},
   "outputs": [
    {
     "data": {
      "text/plain": [
       "(159571, 8)"
      ]
     },
     "execution_count": 89,
     "metadata": {},
     "output_type": "execute_result"
    }
   ],
   "source": [
    "jigsaw_data.shape"
   ]
  },
  {
   "cell_type": "code",
   "execution_count": 7,
   "id": "0b7b6083-f3bc-41db-a3e8-0dd2780c50ed",
   "metadata": {},
   "outputs": [
    {
     "name": "stdout",
     "output_type": "stream",
     "text": [
      "\"\n",
      "Fair use rationale for Image:Wonju.jpg\n",
      "\n",
      "Thanks for uploading Image:Wonju.jpg. I notice the image page specifies that the image is being used under fair use but there is no explanation or rationale as to why its use in Wikipedia articles constitutes fair use. In addition to the boilerplate fair use template, you must also write out on the image description page a specific explanation or rationale for why using this image in each article is consistent with fair use.\n",
      "\n",
      "Please go to the image descr...\n"
     ]
    }
   ],
   "source": [
    "sample_text = jigsaw_data['comment_text'].iloc[10]\n",
    "\n",
    "print(sample_text[:500] + \"...\")"
   ]
  },
  {
   "cell_type": "code",
   "execution_count": 23,
   "id": "4d8dba02-378d-4afb-8ce8-409a354ea358",
   "metadata": {},
   "outputs": [],
   "source": [
    "text_frame = nt.TextFrame(text=sample_text)"
   ]
  },
  {
   "cell_type": "code",
   "execution_count": 31,
   "id": "1737c444-b05c-4b9c-a8af-5526905c4d02",
   "metadata": {},
   "outputs": [
    {
     "data": {
      "text/plain": [
       "'fair use rationale imagewonjujpg thanks uploading imagewonjujpg notice image page specifies image fair use explanation rationale use wikipedia articles constitutes fair use addition boilerplate fair use template write image description page specific explanation rationale image article consistent fair use image description page edit include fair use rationale uploaded fair use media consider checking specified fair use rationale pages find list image pages edited clicking contributions link it located wikipedia page logged in selecting image dropdown box note fair use images uploaded 4 2006 lacking explanation deleted week uploaded described criteria speedy deletion questions ask media copyright questions page thank talk  contribs   unspecified source imagewonjujpg thanks uploading imagewonjujpg noticed files description page currently doesnt specify created content copyright status unclear create file need specify owner copyright obtained website link website taken restatement websites terms use content usually sufficient information copyright holder different websites publisher copyright acknowledged adding source add proper copyright licensing tag file doesnt createdtook picture audio video tag release gfdl believe media meets criteria wikipediafair use use tag tags listed wikipediaimage copyright tagsfair use wikipediaimage copyright tags list copyright tags use uploaded files consider checking specified source tagged find list files uploaded following  link unsourced untagged images deleted week tagged described criteria speedy deletion image copyrighted nonfree license per wikipediafair use image deleted 48 hours questions ask media copyright questions page thank talk  contribs  '"
      ]
     },
     "execution_count": 31,
     "metadata": {},
     "output_type": "execute_result"
    }
   ],
   "source": [
    "nt.clean_text(sample_text,\n",
    "              puncts=True,\n",
    "              stopwords=True,\n",
    "              urls=True,\n",
    "              special_char=True,\n",
    "              multiple_whitespaces=True)"
   ]
  },
  {
   "cell_type": "code",
   "execution_count": 108,
   "id": "00587f1f-76ad-4c27-80d6-f2ce347fd11c",
   "metadata": {},
   "outputs": [],
   "source": [
    "text_column = jigsaw_data['comment_text']"
   ]
  },
  {
   "cell_type": "code",
   "execution_count": 118,
   "id": "233deefd-6312-492f-a49b-b1d7397210ca",
   "metadata": {},
   "outputs": [],
   "source": [
    "from functools import partial\n",
    "\n",
    "\n",
    "def preprocess(text_column,\n",
    "               stopwords=True,\n",
    "               n_grams=2,\n",
    "               tfidf=False,\n",
    "               twitter=False,\n",
    "               min_df=10,\n",
    "               max_df=0.60):\n",
    "\n",
    "    clean_func = partial(nt.clean_text,\n",
    "                         stopwords=stopwords,\n",
    "                         puncts=True,\n",
    "                         urls=True,\n",
    "                         special_char=True,\n",
    "                         multiple_whitespaces=True)\n",
    "\n",
    "    normalized = text_column.map(clean_func)\n",
    "\n",
    "    vectorizer_options = {\n",
    "        \"ngram_range\": (1, n_grams),\n",
    "        \"min_df\": min_df,\n",
    "        \"max_df\": max_df,\n",
    "        \"tokenizer\": TweetTokenizer if twitter else None\n",
    "    }\n",
    "\n",
    "    if tfidf:\n",
    "        vectorizer = TfidfVectorizer(**vectorizer_options)\n",
    "    else:\n",
    "        vectorizer = CountVectorizer(**vectorizer_options)\n",
    "\n",
    "    vectors = vectorizer.fit_transform(normalized)\n",
    "    feature_names = vectorizer.get_feature_names_out()\n",
    "\n",
    "    return vectors, feature_names"
   ]
  },
  {
   "cell_type": "code",
   "execution_count": 119,
   "id": "7285205c-5896-4147-8cee-14bb235151f4",
   "metadata": {},
   "outputs": [],
   "source": [
    "values, feature_names = preprocess(text_column)"
   ]
  },
  {
   "cell_type": "code",
   "execution_count": 120,
   "id": "2d5882a1-2798-42ca-b51d-f270904df8ea",
   "metadata": {},
   "outputs": [
    {
     "data": {
      "text/plain": [
       "(159571, 53856)"
      ]
     },
     "execution_count": 120,
     "metadata": {},
     "output_type": "execute_result"
    }
   ],
   "source": [
    "values.shape"
   ]
  },
  {
   "cell_type": "code",
   "execution_count": 121,
   "id": "c2acf276-454d-4f5c-8b38-9dcb7b4f9b64",
   "metadata": {},
   "outputs": [],
   "source": [
    "from sklearn.model_selection import train_test_split\n",
    "\n",
    "X_train, X_test, y_train, y_test = train_test_split(values,\n",
    "                                                    jigsaw_data['toxic'])"
   ]
  },
  {
   "cell_type": "code",
   "execution_count": 122,
   "id": "b5ff91d9-0f4b-4b38-99ac-0db8d2a4cd4c",
   "metadata": {},
   "outputs": [
    {
     "data": {
      "text/plain": [
       "MultinomialNB()"
      ]
     },
     "execution_count": 122,
     "metadata": {},
     "output_type": "execute_result"
    }
   ],
   "source": [
    "from sklearn.naive_bayes import MultinomialNB\n",
    "\n",
    "nb = MultinomialNB()\n",
    "\n",
    "nb.fit(X_train, y_train)"
   ]
  },
  {
   "cell_type": "code",
   "execution_count": 123,
   "id": "f3fc80c4-3e3d-4c36-9a3d-f4b0a2582bac",
   "metadata": {},
   "outputs": [
    {
     "data": {
      "text/plain": [
       "0.7003463513674907"
      ]
     },
     "execution_count": 123,
     "metadata": {},
     "output_type": "execute_result"
    }
   ],
   "source": [
    "from sklearn.metrics import f1_score\n",
    "\n",
    "preds = nb.predict(X_test)\n",
    "\n",
    "f1_score(y_test, preds)"
   ]
  },
  {
   "cell_type": "code",
   "execution_count": null,
   "id": "6b88d4dd-9779-4621-b326-c8d6579de1a3",
   "metadata": {},
   "outputs": [],
   "source": []
  }
 ],
 "metadata": {
  "kernelspec": {
   "display_name": "Python [conda env:nlp-mid] *",
   "language": "python",
   "name": "conda-env-nlp-mid-py"
  },
  "language_info": {
   "codemirror_mode": {
    "name": "ipython",
    "version": 3
   },
   "file_extension": ".py",
   "mimetype": "text/x-python",
   "name": "python",
   "nbconvert_exporter": "python",
   "pygments_lexer": "ipython3",
   "version": "3.9.7"
  }
 },
 "nbformat": 4,
 "nbformat_minor": 5
}
